{
 "cells": [
  {
   "cell_type": "code",
   "execution_count": 1,
   "metadata": {},
   "outputs": [
    {
     "data": {
      "text/html": [
       "<style>.container { width:90% !important; }</style>"
      ],
      "text/plain": [
       "<IPython.core.display.HTML object>"
      ]
     },
     "metadata": {},
     "output_type": "display_data"
    }
   ],
   "source": [
    "# %matplotlib inline\n",
    "%matplotlib widget\n",
    "%load_ext autoreload\n",
    "%autoreload 2\n",
    "from IPython.display import display, HTML\n",
    "display(HTML(\"<style>.container { width:90% !important; }</style>\"))"
   ]
  },
  {
   "cell_type": "code",
   "execution_count": 2,
   "metadata": {},
   "outputs": [],
   "source": [
    "import os\n",
    "import sys\n",
    "sys.path.insert(0, 'functions/')\n",
    "from h5_tools import *\n",
    "from fitting_tools import *\n",
    "import numpy as np\n",
    "import h5py as h5\n",
    "import matplotlib as mpl\n",
    "from matplotlib import pyplot as plt\n",
    "import pandas as pd\n",
    "import pickle\n",
    "# from matplotlib.colors import LogNorm"
   ]
  },
  {
   "cell_type": "code",
   "execution_count": 3,
   "metadata": {},
   "outputs": [],
   "source": [
    "h5dir = '/cfs/data/pg/sdaqs/esrf-ebs/id10/sc5275/20220614/processed/h5-files/'"
   ]
  },
  {
   "cell_type": "markdown",
   "metadata": {},
   "source": [
    "# Select runs"
   ]
  },
  {
   "cell_type": "code",
   "execution_count": 4,
   "metadata": {},
   "outputs": [
    {
     "name": "stdout",
     "output_type": "stream",
     "text": [
      "total 17532090\n",
      "-rw-rw-r--+ 1 mabi3848 hpc-users 3054376047 Jun 20 00:02 ferritin_conc_gly_50_5_0004.h5\n",
      "-rw-rw-r--+ 1 mabi3848 hpc-users 2697540517 Jun 20 09:32 ferritin_conc_gly_50_5_0005.h5\n",
      "-rw-rw-r--+ 1 mabi3848 hpc-users 1223385279 Jun 19 23:57 ferritin_conc_gly_50_5_0006.h5\n",
      "-rw-rw-r--+ 1 mabi3848 hpc-users 2945171489 Jun 20 14:57 ferritin_conc_gly_50_6_0002.h5\n",
      "-rw-rw-r--+ 1 mabi3848 hpc-users 2948413977 Jun 20 14:58 ferritin_conc_gly_50_6_0004.h5\n",
      "-rw-rw-r--+ 1 mabi3848 hpc-users 2968091773 Jun 20 17:18 ferritin_conc_gly_50_6_0005.h5\n",
      "-rw-rw-r--+ 1 mabi3848 hpc-users 2656843814 Jun 20 14:54 ferritin_conc_gly_50_6_0006.h5\n"
     ]
    }
   ],
   "source": [
    "!ls -l /cfs/data/pg/sdaqs/esrf-ebs/id10/sc5275/20220614/processed/h5-files/"
   ]
  },
  {
   "cell_type": "code",
   "execution_count": 5,
   "metadata": {},
   "outputs": [],
   "source": [
    "# fluxes 220K: 4 full beam, 5 45%, 6 22.5%\n",
    "runs = ['ferritin_conc_gly_50_5_0004', 'ferritin_conc_gly_50_6_0005']"
   ]
  },
  {
   "cell_type": "code",
   "execution_count": 11,
   "metadata": {},
   "outputs": [
    {
     "name": "stdout",
     "output_type": "stream",
     "text": [
      "\n",
      " /cfs/data/pg/sdaqs/esrf-ebs/id10/sc5275/20220614/processed/h5-files/ferritin_conc_gly_50_5_0004.h5 \n",
      "File exists:  True\n",
      "measurement folder   ferritin_conc_gly_50_5_0004\n",
      "Temperature, K       220.0\n",
      "transmission (%)     100\n",
      "Absorbers 80um       0.0\n",
      "Absorbers 100um      0.0\n",
      "Short comment        nan\n",
      "comment              xpcs, 4 reps per spot, 220K, full beam\n",
      "Exposure time (s)    0.0002\n",
      "number of frames     5000.0\n",
      "\n",
      " /cfs/data/pg/sdaqs/esrf-ebs/id10/sc5275/20220614/processed/h5-files/ferritin_conc_gly_50_6_0005.h5 \n",
      "File exists:  True\n",
      "measurement folder   ferritin_conc_gly_50_6_0005\n",
      "Temperature, K       220.0\n",
      "transmission (%)     100\n",
      "Absorbers 80um       0.0\n",
      "Absorbers 100um      0.0\n",
      "Short comment        nan\n",
      "comment              xpcs, 4 reps per spot, 220K, full beam\n",
      "Exposure time (s)    0.0002\n",
      "number of frames     5000.0\n"
     ]
    }
   ],
   "source": [
    "T, Tr = np.empty(len(runs)), np.empty(len(runs))\n",
    "\n",
    "for i,run in enumerate(runs):\n",
    "    filename = h5dir + f'{run}.h5'\n",
    "    if os.path.isfile(filename):\n",
    "        print(\"\\n\", filename, \"\\nFile exists: \", os.path.isfile(filename))\n",
    "        info = elog_selected_entries_dict(filename)\n",
    "        for key in info.keys():\n",
    "            print(\"{0:20} {1}\".format(key, info[key]))\n",
    "        Tr[i] = info['transmission (%)']\n",
    "        T[i] = info['Temperature, K']\n",
    "    else:\n",
    "        print(filename, \"File exists: False\\n\")\n"
   ]
  },
  {
   "cell_type": "code",
   "execution_count": 8,
   "metadata": {},
   "outputs": [
    {
     "data": {
      "text/plain": [
       "array([100., 100.])"
      ]
     },
     "execution_count": 8,
     "metadata": {},
     "output_type": "execute_result"
    }
   ],
   "source": [
    "Tr"
   ]
  },
  {
   "cell_type": "markdown",
   "metadata": {},
   "source": [
    "# Plot g2s"
   ]
  },
  {
   "cell_type": "code",
   "execution_count": null,
   "metadata": {},
   "outputs": [],
   "source": []
  },
  {
   "cell_type": "code",
   "execution_count": 12,
   "metadata": {},
   "outputs": [],
   "source": [
    "def exponential(x, beta, tau, c):\n",
    "    return np.abs(beta) * np.exp( -2*x/(np.abs(tau)) )\n",
    "\n",
    "def exponential_kww(x, beta, tau, c, kww):\n",
    "    return np.abs(beta) * np.exp( -2*(x/(np.abs(tau)))**kww )\n",
    "\n",
    "def linear(x, m):\n",
    "    return m*x"
   ]
  },
  {
   "cell_type": "code",
   "execution_count": 14,
   "metadata": {},
   "outputs": [
    {
     "name": "stdout",
     "output_type": "stream",
     "text": [
      "(2, 12, 80)\n"
     ]
    }
   ],
   "source": [
    "filename = h5dir + f'{runs[0]}.h5'\n",
    "delay = load_data(filename, 'xpcs/g2s/delay')\n",
    "qv = load_data(filename, 'xpcs/g2s/q')\n",
    "\n",
    "rep = 0\n",
    "g2s = np.empty(shape=(len(runs),len(qv),len(delay)))\n",
    "\n",
    "for i,run in enumerate(runs):\n",
    "    filename = h5dir + f'{run}.h5'\n",
    "    g2s[i,:,:] = load_data(filename, 'xpcs/g2s/g2s')[rep,:,:]\n",
    "\n",
    "print(np.shape(g2s))"
   ]
  },
  {
   "cell_type": "markdown",
   "metadata": {},
   "source": [
    "### With kww=1"
   ]
  },
  {
   "cell_type": "code",
   "execution_count": 15,
   "metadata": {
    "tags": []
   },
   "outputs": [
    {
     "ename": "NameError",
     "evalue": "name 'datasetnumbers' is not defined",
     "output_type": "error",
     "traceback": [
      "\u001b[0;31m---------------------------------------------------------------------------\u001b[0m",
      "\u001b[0;31mNameError\u001b[0m                                 Traceback (most recent call last)",
      "Input \u001b[0;32mIn [15]\u001b[0m, in \u001b[0;36m<cell line: 7>\u001b[0;34m()\u001b[0m\n\u001b[1;32m      4\u001b[0m a3 \u001b[38;5;241m=\u001b[39m f\u001b[38;5;241m.\u001b[39madd_subplot(gs[\u001b[38;5;241m0\u001b[39m, \u001b[38;5;241m2\u001b[39m])\n\u001b[1;32m      5\u001b[0m a4 \u001b[38;5;241m=\u001b[39m f\u001b[38;5;241m.\u001b[39madd_subplot(gs[\u001b[38;5;241m1\u001b[39m, \u001b[38;5;241m2\u001b[39m])\n\u001b[0;32m----> 7\u001b[0m col \u001b[38;5;241m=\u001b[39m plt\u001b[38;5;241m.\u001b[39mcm\u001b[38;5;241m.\u001b[39mplasma(np\u001b[38;5;241m.\u001b[39mlinspace(\u001b[38;5;241m0\u001b[39m,\u001b[38;5;241m1\u001b[39m,\u001b[38;5;28mlen\u001b[39m(\u001b[43mdatasetnumbers\u001b[49m)))\n\u001b[1;32m      8\u001b[0m \u001b[38;5;66;03m# taus, dtaus = [], []\u001b[39;00m\n\u001b[1;32m      9\u001b[0m qv_sel \u001b[38;5;241m=\u001b[39m \u001b[38;5;241m5\u001b[39m\n",
      "\u001b[0;31mNameError\u001b[0m: name 'datasetnumbers' is not defined"
     ]
    },
    {
     "data": {
      "application/vnd.jupyter.widget-view+json": {
       "model_id": "7012f1e2ffd94e9b8e8c0073f346ed1c",
       "version_major": 2,
       "version_minor": 0
      },
      "image/png": "[encoded data removed]",
      "text/html": [
       "\n",
       "            <div style=\"display: inline-block;\">\n",
       "                <div class=\"jupyter-widgets widget-label\" style=\"text-align: center;\">\n",
       "                    Figure\n",
       "                </div>\n",
       "                <img src='data:image/png;base64,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' width=800.0/>\n",
       "            </div>\n",
       "        "
      ],
      "text/plain": [
       "Canvas(toolbar=Toolbar(toolitems=[('Home', 'Reset original view', 'home', 'home'), ('Back', 'Back to previous …"
      ]
     },
     "metadata": {},
     "output_type": "display_data"
    }
   ],
   "source": [
    "f = plt.figure(figsize=(8,4), constrained_layout=True)\n",
    "gs = f.add_gridspec(2, 3)\n",
    "a1 = f.add_subplot(gs[:2, :2])\n",
    "a3 = f.add_subplot(gs[0, 2])\n",
    "a4 = f.add_subplot(gs[1, 2])\n",
    "\n",
    "col = plt.cm.plasma(np.linspace(0,1,len(datasetnumbers)))\n",
    "# taus, dtaus = [], []\n",
    "qv_sel = 5\n",
    "qv_min, qv_max = 1, len(qv)\n",
    "for i in range(len(datasetnumbers)):\n",
    "    \n",
    "#     base = 0\n",
    "    taus, dtaus = [], []\n",
    "    for q in range(qv_min, qv_max):\n",
    "        base = np.average(g2s[i,q,-15:])\n",
    "        beta_p0 = 0.14\n",
    "        popt,xc,curve,perr = fit(exponential, delay, g2s[i,q,:]-base, p0=[beta_p0,5e-2,1], bounds=[(beta_p0-1e-3,0,0),(beta_p0+1e-3,np.infty,3)])\n",
    "        taus.append(popt[1])\n",
    "        dtaus.append(perr[1])\n",
    "        \n",
    "        if q==qv_sel:\n",
    "            a1.plot(delay, g2s[i,q,:]-base, c=col[i], ls='', marker='o', ms=5, mfc='none', alpha=0.7)\n",
    "            a1.plot(xc, curve, c=col[i], ls='-', alpha=0.9, label=f'{Tr[i]}% ({datasetnumbers[i]})')\n",
    "#             a2.errorbar(qv[i], popt[0], perr[0], c=col[i], ls='', marker='o')\n",
    "            \n",
    "#         popt,xc,curve,perr = fit(exponential, delay, g2s[i,qq,:]-base, p0=[beta_p0,5e-2,1], bounds=[(beta_p0-1e-3,0,0),(beta_p0+1e-3,np.infty,3)])\n",
    "#         a1.plot(xc, curve, c=col[i], ls='-', alpha=0.9, label=f'{qv[qq]:.2f}')\n",
    "#         a2.errorbar(qv[i], popt[0], perr[0], c='r', ls='', marker='o')\n",
    "#         taus.append(popt[1])\n",
    "#         dtaus.append(perr[1])\n",
    "\n",
    "    taus, dtaus = np.asarray(taus), np.asarray(dtaus)\n",
    "    popt,xc,curve,perr = fit(linear, qv[qv_min:qv_max]**2, 1/taus, sigma=dtaus/(taus**2), p0=[5e3])\n",
    "    a3.plot(xc, curve, c=col[i], label=f'{popt[0]*1e-6:.2e} ${{nm}}^{{2}}$/${{\\mu s}}$')\n",
    "    a4.plot(np.sqrt(xc), 1/curve, c=col[i], label=f'{popt[0]*1e-6:.2e} ${{nm}}^{{2}}$/${{\\mu s}}$')\n",
    "    a3.errorbar(qv[qv_min:qv_max]**2, 1/taus, dtaus/(taus**2), c=col[i], ls='', marker='o')\n",
    "    a4.plot(qv[qv_min:qv_max], taus, c=col[i], ls='', marker='o')\n",
    "\n",
    "a1.legend(title=r'transmission', fontsize=10, bbox_to_anchor=[1,1], handlelength=1)\n",
    "a1.set_title(f\"{runname}, T={T[:-2]}K\")\n",
    "a1.set_xscale('log')\n",
    "a1.set_xlabel(r't (s)')\n",
    "a1.set_ylabel(r'$g_2(t,q)$')\n",
    "a3.set_xlabel(r'$q^2$ (nm$^{-1}$)')\n",
    "a3.set_ylabel(r'$\\Gamma$ ($s^{-1}$)')\n",
    "a4.set_xlabel(r'q (nm$^{-1}$)')\n",
    "a4.set_ylabel(r'$\\tau$ ($s^{-1}$)')\n",
    "a1.grid(ls=':', alpha=.7)\n",
    "a3.grid(ls=':', alpha=.7)\n",
    "a4.grid(ls=':', alpha=.7)\n",
    "a3.legend(fontsize=8, handlelength=.8);"
   ]
  },
  {
   "cell_type": "markdown",
   "metadata": {},
   "source": [
    "### Free kww"
   ]
  },
  {
   "cell_type": "code",
   "execution_count": 140,
   "metadata": {},
   "outputs": [],
   "source": [
    "mpl.rcParams.update({\"axes.grid\" : True, \"grid.color\": \"gray\", \"grid.linestyle\":\":\", \"grid.alpha\": \"0.7\"})\n",
    "f, ((a1,a2),(a3,a4)) = plt.subplots(2,2,figsize=(8,7), constrained_layout=True)\n",
    "\n",
    "# f = plt.figure(figsize=(8,4), constrained_layout=True)\n",
    "# gs = f.add_gridspec(2, 3)\n",
    "# a1 = f.add_subplot(gs[:2, :2])\n",
    "# a3 = f.add_subplot(gs[0, 2])\n",
    "# a4 = f.add_subplot(gs[1, 2])\n",
    "\n",
    "col = plt.cm.plasma(np.linspace(0,1,len(datasetnumbers)))\n",
    "# taus, dtaus = [], []\n",
    "\n",
    "beta_p0, dbeta_p0 = 0.14, 1e-1\n",
    "qv_sel = 5\n",
    "qv_min, qv_max = 1, len(qv)\n",
    "for i in range(len(datasetnumbers)):\n",
    "#     base = np.average(g2s[i,i,-15:])\n",
    "    base = 0\n",
    "    for q in range(qv_min, qv_max):\n",
    "#         beta_p0 = 0.14\n",
    "        popt,xc,curve,perr = fit(exponential_kww, delay, g2s[i,q,:]-base, p0=[beta_p0,5e-2,1,1.], bounds=[(beta_p0-dbeta_p0,0,0,0),(beta_p0+dbeta_p0,np.infty,3,2)])\n",
    "\n",
    "        if q==qv_sel:\n",
    "            a1.plot(delay, g2s[i,q,:]-base, c=col[i], ls='', marker='o', ms=5, mfc='none', alpha=0.7, label=f'{Tr[i]}% ({datasetnumbers[i]})')\n",
    "            a1.plot(xc, curve, c=col[i], ls='-', alpha=0.9, label=f'{qv[q]:.2f}')\n",
    "            \n",
    "            a2.errorbar(qv[i], popt[0], perr[0], c=col[i], ls='', marker='o')\n",
    "            a4.errorbar(qv[i], popt[3], perr[3], c=col[i], ls='', marker='o')\n",
    "            taus.append(popt[1])\n",
    "            dtaus.append(perr[1])\n",
    "#         popt,xc,curve,perr = fit(exponential, delay, g2s[i,qq,:]-base, p0=[beta_p0,5e-2,1], bounds=[(beta_p0-1e-3,0,0),(beta_p0+1e-3,np.infty,3)])\n",
    "#         a1.plot(xc, curve, c=col[i], ls='-', alpha=0.9, label=f'{qv[qq]:.2f}')\n",
    "#         a2.errorbar(qv[i], popt[0], perr[0], c='r', ls='', marker='o')\n",
    "#         taus.append(popt[1])\n",
    "#         dtaus.append(perr[1])\n",
    "\n",
    "    taus, dtaus = np.asarray(taus), np.asarray(dtaus)\n",
    "    popt,xc,curve,perr = fit(linear, qv[qv_min:qv_max]**2, 1/taus, sigma=dtaus/(taus**2), p0=[5e3])\n",
    "    a3.plot(xc, curve, c=col[i], label=f'{popt[0]*1e-6:.2e} ${{nm}}^{{2}}$/${{\\mu s}}$')\n",
    "    a3.errorbar( qv[qv_min:qv_max]**2, 1/taus, dtaus/(taus**2),  c=col[i], ls='', marker='o')\n",
    "    \n",
    "f.sup_title(f\"{runname}, T={T[:-2]}K\")\n",
    "a1.legend(title=r'q (nm$^{-1}$)', fontsize=8, bbox_to_anchor=[1,1], handlelength=.5)\n",
    "a1.set_xscale('log')\n",
    "a1.set_xlabel(r't (s)')\n",
    "a1.set_ylabel(r'$g_2(t,q)$')\n",
    "a2.set_xlabel(r'q (nm$^{-1}$)')\n",
    "a2.set_ylabel('contrast')\n",
    "a3.set_xlabel(r'$q^2$ (nm$^{-1}$)')\n",
    "a3.set_ylabel(r'$\\Gamma$ ($s^{-1}$)')\n",
    "a4.set_xlabel(r'q (nm$^{-1}$)')\n",
    "a4.set_ylabel('KWW')"
   ]
  },
  {
   "cell_type": "markdown",
   "metadata": {},
   "source": [
    "# calcualte something from anita\n",
    "**I think it's the estimation of the contrast vs q**"
   ]
  },
  {
   "cell_type": "code",
   "execution_count": 130,
   "metadata": {},
   "outputs": [],
   "source": [
    "# variables\n",
    "bs         = 11*1e-6    # beam size in m \n",
    "d         =  1.5e-3   # sample thickness in m\n",
    "E         =  9        # Energy in keV\n",
    "L         =  7   # sample-detector-distance in m\n",
    "delLamLam =  5e-3     # Delta E over E: pink: 2e-3, in felix paper it is fixed at 5e-3 for some reason\n",
    "P         =  200e-6    # pixel size in m\n",
    "\n",
    "def calculate_M_det(E,q,delLamLam,bs,L,P,d):\n",
    "\n",
    "    theta = calculate_theta(q,E)\n",
    "    M_rad = calculate_M_rad(q,delLamLam,bs,E)\n",
    "    M_det = np.sqrt(1+P**4*bs**2/(M_rad**2*(wavelength(E)* L)**4 )*( (bs**2)*np.cos(theta/2)**2+ (d**2)*np.sin(theta/2)**2) )\n",
    "\n",
    "    return M_det\n",
    "\n",
    "\n",
    "def calculate_M_rad(q,delLamLam,bs,E):\n",
    "    theta=calculate_theta(q,E)\n",
    "    M_rad=np.sqrt(1+(q**2)*(delLamLam**2)/(4*(np.pi)**2)*((bs**2)*(np.cos(theta))**2 + (d**2)*(np.sin(theta))**2 ))\n",
    "    return M_rad\n",
    "\n",
    "\n",
    "def speckle_contrast(E,q,delLamLam,bs,L,P,d):\n",
    "    q=q*1e9\n",
    "    beta = .5/(calculate_M_rad(q,delLamLam,bs,E)*calculate_M_det(E,q,delLamLam,bs,L,P,d))\n",
    "    return beta\n",
    "\n",
    "def wavelength(E):\n",
    "    lam = 1.24/E*1e-9\n",
    "    return lam\n",
    "\n",
    "\n",
    "def calculate_theta(q,E):\n",
    "    theta=np.arcsin(q/(4*np.pi/wavelength(E)))*2\n",
    "    return theta"
   ]
  },
  {
   "cell_type": "code",
   "execution_count": null,
   "metadata": {},
   "outputs": [],
   "source": []
  }
 ],
 "metadata": {
  "kernelspec": {
   "display_name": "apof-fysikum",
   "language": "python",
   "name": "apof-fysikum"
  },
  "language_info": {
   "codemirror_mode": {
    "name": "ipython",
    "version": 3
   },
   "file_extension": ".py",
   "mimetype": "text/x-python",
   "name": "python",
   "nbconvert_exporter": "python",
   "pygments_lexer": "ipython3",
   "version": "3.8.5"
  }
 },
 "nbformat": 4,
 "nbformat_minor": 4
}
