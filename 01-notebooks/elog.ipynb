{
 "cells": [
  {
   "cell_type": "code",
   "execution_count": 22,
   "metadata": {},
   "outputs": [
    {
     "name": "stdout",
     "output_type": "stream",
     "text": [
      "The autoreload extension is already loaded. To reload it, use:\n",
      "  %reload_ext autoreload\n"
     ]
    }
   ],
   "source": [
    "# %matplotlib widget\n",
    "# %matplotlib notebook\n",
    "%matplotlib inline\n",
    "%load_ext autoreload\n",
    "%autoreload 2\n",
    "# from IPython.core.display import display, HTML\n",
    "# display(HTML(\"<style>.container { width:90% !important; }</style>\"))\n",
    "\n",
    "import numpy as np\n",
    "import pandas as pd\n",
    "import pickle\n",
    "import h5py\n",
    "import os"
   ]
  },
  {
   "cell_type": "code",
   "execution_count": null,
   "metadata": {},
   "outputs": [],
   "source": [
    "# ferritin\n",
    "# https://docs.google.com/spreadsheets/d/1sZtDsfgdbVltXtC_nw7wt7QoXf_mQ2X5-X3lCEDUEiI/edit#gid=1882865384"
   ]
  },
  {
   "cell_type": "code",
   "execution_count": 2,
   "metadata": {},
   "outputs": [],
   "source": [
    "sheet_url = \"https://docs.google.com/spreadsheets/d/1sZtDsfgdbVltXtC_nw7wt7QoXf_mQ2X5-X3lCEDUEiI/edit#gid=1882865384\"\n",
    "url = sheet_url.replace('/edit#gid=', '/export?format=csv&gid=')"
   ]
  },
  {
   "cell_type": "code",
   "execution_count": 3,
   "metadata": {},
   "outputs": [
    {
     "data": {
      "text/plain": [
       "Index(['Sample', 'comment', 'Short comment', 'Sample no. (label)',\n",
       "       'measurement folder', 'scan number', 'LN flow meter', 'Temperature, K',\n",
       "       'Temperature, C', 'Exposure time (s)', 'number of frames',\n",
       "       'Mesh (spots x lines)', 'reps per spot', 'No of spots',\n",
       "       'Total exposure time (s)', 'transmission (%)', 'Absorbers 80um',\n",
       "       'Absorbers 100um', 'position y, mm', 'position z, mm'],\n",
       "      dtype='object')"
      ]
     },
     "execution_count": 3,
     "metadata": {},
     "output_type": "execute_result"
    }
   ],
   "source": [
    "elog = pd.read_csv(url)\n",
    "elog.columns"
   ]
  },
  {
   "cell_type": "code",
   "execution_count": 5,
   "metadata": {},
   "outputs": [],
   "source": [
    "# # save elog\n",
    "# elog.to_pickle(\"../02-source/elog\")"
   ]
  },
  {
   "cell_type": "code",
   "execution_count": 2,
   "metadata": {},
   "outputs": [],
   "source": [
    "# load elog as pd dataframe\n",
    "elog = pd.read_pickle(\"../03-source/elog\")"
   ]
  },
  {
   "cell_type": "code",
   "execution_count": 3,
   "metadata": {},
   "outputs": [
    {
     "data": {
      "text/html": [
       "<div>\n",
       "<style scoped>\n",
       "    .dataframe tbody tr th:only-of-type {\n",
       "        vertical-align: middle;\n",
       "    }\n",
       "\n",
       "    .dataframe tbody tr th {\n",
       "        vertical-align: top;\n",
       "    }\n",
       "\n",
       "    .dataframe thead th {\n",
       "        text-align: right;\n",
       "    }\n",
       "</style>\n",
       "<table border=\"1\" class=\"dataframe\">\n",
       "  <thead>\n",
       "    <tr style=\"text-align: right;\">\n",
       "      <th></th>\n",
       "      <th>Sample</th>\n",
       "      <th>comment</th>\n",
       "      <th>Short comment</th>\n",
       "      <th>Sample no. (label)</th>\n",
       "      <th>measurement folder</th>\n",
       "      <th>scan number</th>\n",
       "      <th>LN flow meter</th>\n",
       "      <th>Temperature, K</th>\n",
       "      <th>Temperature, C</th>\n",
       "      <th>Exposure time (s)</th>\n",
       "      <th>number of frames</th>\n",
       "      <th>Mesh (spots x lines)</th>\n",
       "      <th>reps per spot</th>\n",
       "      <th>No of spots</th>\n",
       "      <th>Total exposure time (s)</th>\n",
       "      <th>transmission (%)</th>\n",
       "      <th>Absorbers 80um</th>\n",
       "      <th>Absorbers 100um</th>\n",
       "      <th>position y, mm</th>\n",
       "      <th>position z, mm</th>\n",
       "    </tr>\n",
       "  </thead>\n",
       "  <tbody>\n",
       "    <tr>\n",
       "      <th>0</th>\n",
       "      <td>silica_gly23</td>\n",
       "      <td>NaN</td>\n",
       "      <td>empty</td>\n",
       "      <td>1</td>\n",
       "      <td>silica_gly23_0001</td>\n",
       "      <td>12</td>\n",
       "      <td>NaN</td>\n",
       "      <td>NaN</td>\n",
       "      <td>NaN</td>\n",
       "      <td>0.0001</td>\n",
       "      <td>10000.0</td>\n",
       "      <td>1</td>\n",
       "      <td>NaN</td>\n",
       "      <td>NaN</td>\n",
       "      <td>1.000</td>\n",
       "      <td>NaN</td>\n",
       "      <td>0.0</td>\n",
       "      <td>0.0</td>\n",
       "      <td>NaN</td>\n",
       "      <td>NaN</td>\n",
       "    </tr>\n",
       "    <tr>\n",
       "      <th>1</th>\n",
       "      <td>silica_gly23</td>\n",
       "      <td>NaN</td>\n",
       "      <td>empty</td>\n",
       "      <td>1</td>\n",
       "      <td>silica_gly23_0001</td>\n",
       "      <td>13</td>\n",
       "      <td>NaN</td>\n",
       "      <td>NaN</td>\n",
       "      <td>NaN</td>\n",
       "      <td>0.0010</td>\n",
       "      <td>10000.0</td>\n",
       "      <td>1</td>\n",
       "      <td>NaN</td>\n",
       "      <td>NaN</td>\n",
       "      <td>10.000</td>\n",
       "      <td>NaN</td>\n",
       "      <td>0.0</td>\n",
       "      <td>0.0</td>\n",
       "      <td>NaN</td>\n",
       "      <td>NaN</td>\n",
       "    </tr>\n",
       "    <tr>\n",
       "      <th>2</th>\n",
       "      <td>silica_gly23_SAXS</td>\n",
       "      <td>NaN</td>\n",
       "      <td>empty</td>\n",
       "      <td>1</td>\n",
       "      <td>silica_gly23_saxs_0001</td>\n",
       "      <td>2</td>\n",
       "      <td>NaN</td>\n",
       "      <td>NaN</td>\n",
       "      <td>25</td>\n",
       "      <td>0.0010</td>\n",
       "      <td>1.0</td>\n",
       "      <td>1</td>\n",
       "      <td>NaN</td>\n",
       "      <td>NaN</td>\n",
       "      <td>0.001</td>\n",
       "      <td>NaN</td>\n",
       "      <td>0.0</td>\n",
       "      <td>0.0</td>\n",
       "      <td>NaN</td>\n",
       "      <td>NaN</td>\n",
       "    </tr>\n",
       "    <tr>\n",
       "      <th>3</th>\n",
       "      <td>silica_gly23</td>\n",
       "      <td>NaN</td>\n",
       "      <td>NaN</td>\n",
       "      <td>1</td>\n",
       "      <td>silica_gly23_saxs_0001</td>\n",
       "      <td>3</td>\n",
       "      <td>NaN</td>\n",
       "      <td>NaN</td>\n",
       "      <td>25</td>\n",
       "      <td>0.1000</td>\n",
       "      <td>1.0</td>\n",
       "      <td>1</td>\n",
       "      <td>NaN</td>\n",
       "      <td>NaN</td>\n",
       "      <td>0.100</td>\n",
       "      <td>NaN</td>\n",
       "      <td>0.0</td>\n",
       "      <td>0.0</td>\n",
       "      <td>NaN</td>\n",
       "      <td>NaN</td>\n",
       "    </tr>\n",
       "    <tr>\n",
       "      <th>4</th>\n",
       "      <td>silica_gly23</td>\n",
       "      <td>NaN</td>\n",
       "      <td>NaN</td>\n",
       "      <td>1</td>\n",
       "      <td>silica_gly23_saxs_0001</td>\n",
       "      <td>4</td>\n",
       "      <td>NaN</td>\n",
       "      <td>NaN</td>\n",
       "      <td>25</td>\n",
       "      <td>0.0100</td>\n",
       "      <td>1.0</td>\n",
       "      <td>1</td>\n",
       "      <td>NaN</td>\n",
       "      <td>NaN</td>\n",
       "      <td>0.010</td>\n",
       "      <td>NaN</td>\n",
       "      <td>0.0</td>\n",
       "      <td>0.0</td>\n",
       "      <td>NaN</td>\n",
       "      <td>NaN</td>\n",
       "    </tr>\n",
       "  </tbody>\n",
       "</table>\n",
       "</div>"
      ],
      "text/plain": [
       "              Sample comment Short comment Sample no. (label)  \\\n",
       "0       silica_gly23     NaN         empty                  1   \n",
       "1       silica_gly23     NaN         empty                  1   \n",
       "2  silica_gly23_SAXS     NaN         empty                  1   \n",
       "3       silica_gly23     NaN           NaN                  1   \n",
       "4       silica_gly23     NaN           NaN                  1   \n",
       "\n",
       "       measurement folder scan number LN flow meter  Temperature, K  \\\n",
       "0       silica_gly23_0001          12           NaN             NaN   \n",
       "1       silica_gly23_0001          13           NaN             NaN   \n",
       "2  silica_gly23_saxs_0001           2           NaN             NaN   \n",
       "3  silica_gly23_saxs_0001           3           NaN             NaN   \n",
       "4  silica_gly23_saxs_0001           4           NaN             NaN   \n",
       "\n",
       "  Temperature, C  Exposure time (s)  number of frames Mesh (spots x lines)  \\\n",
       "0            NaN             0.0001           10000.0                    1   \n",
       "1            NaN             0.0010           10000.0                    1   \n",
       "2             25             0.0010               1.0                    1   \n",
       "3             25             0.1000               1.0                    1   \n",
       "4             25             0.0100               1.0                    1   \n",
       "\n",
       "   reps per spot No of spots  Total exposure time (s) transmission (%)  \\\n",
       "0            NaN         NaN                    1.000              NaN   \n",
       "1            NaN         NaN                   10.000              NaN   \n",
       "2            NaN         NaN                    0.001              NaN   \n",
       "3            NaN         NaN                    0.100              NaN   \n",
       "4            NaN         NaN                    0.010              NaN   \n",
       "\n",
       "   Absorbers 80um  Absorbers 100um position y, mm position z, mm  \n",
       "0             0.0              0.0            NaN            NaN  \n",
       "1             0.0              0.0            NaN            NaN  \n",
       "2             0.0              0.0            NaN            NaN  \n",
       "3             0.0              0.0            NaN            NaN  \n",
       "4             0.0              0.0            NaN            NaN  "
      ]
     },
     "execution_count": 3,
     "metadata": {},
     "output_type": "execute_result"
    }
   ],
   "source": [
    "elog.head(5)"
   ]
  },
  {
   "cell_type": "code",
   "execution_count": 8,
   "metadata": {},
   "outputs": [
    {
     "data": {
      "text/plain": [
       "['Sample',\n",
       " 'comment',\n",
       " 'Short comment',\n",
       " 'Sample no. (label)',\n",
       " 'measurement folder',\n",
       " 'scan number',\n",
       " 'LN flow meter',\n",
       " 'Temperature, K',\n",
       " 'Temperature, C',\n",
       " 'Exposure time (s)',\n",
       " 'number of frames',\n",
       " 'Mesh (spots x lines)',\n",
       " 'reps per spot',\n",
       " 'No of spots',\n",
       " 'Total exposure time (s)',\n",
       " 'transmission (%)',\n",
       " 'Absorbers 80um',\n",
       " 'Absorbers 100um',\n",
       " 'position y, mm',\n",
       " 'position z, mm']"
      ]
     },
     "execution_count": 8,
     "metadata": {},
     "output_type": "execute_result"
    }
   ],
   "source": [
    "cols = list(elog.columns)\n",
    "cols"
   ]
  },
  {
   "cell_type": "code",
   "execution_count": 10,
   "metadata": {},
   "outputs": [
    {
     "name": "stdout",
     "output_type": "stream",
     "text": [
      "Temp:  [220.]\n",
      "Transm:  ['100']\n"
     ]
    },
    {
     "data": {
      "text/html": [
       "<div>\n",
       "<style scoped>\n",
       "    .dataframe tbody tr th:only-of-type {\n",
       "        vertical-align: middle;\n",
       "    }\n",
       "\n",
       "    .dataframe tbody tr th {\n",
       "        vertical-align: top;\n",
       "    }\n",
       "\n",
       "    .dataframe thead th {\n",
       "        text-align: right;\n",
       "    }\n",
       "</style>\n",
       "<table border=\"1\" class=\"dataframe\">\n",
       "  <thead>\n",
       "    <tr style=\"text-align: right;\">\n",
       "      <th></th>\n",
       "      <th>Sample</th>\n",
       "      <th>comment</th>\n",
       "      <th>Short comment</th>\n",
       "      <th>Sample no. (label)</th>\n",
       "      <th>measurement folder</th>\n",
       "      <th>scan number</th>\n",
       "      <th>LN flow meter</th>\n",
       "      <th>Temperature, K</th>\n",
       "      <th>Temperature, C</th>\n",
       "      <th>Exposure time (s)</th>\n",
       "      <th>number of frames</th>\n",
       "      <th>Mesh (spots x lines)</th>\n",
       "      <th>reps per spot</th>\n",
       "      <th>No of spots</th>\n",
       "      <th>Total exposure time (s)</th>\n",
       "      <th>transmission (%)</th>\n",
       "      <th>Absorbers 80um</th>\n",
       "      <th>Absorbers 100um</th>\n",
       "      <th>position y, mm</th>\n",
       "      <th>position z, mm</th>\n",
       "    </tr>\n",
       "  </thead>\n",
       "  <tbody>\n",
       "    <tr>\n",
       "      <th>135</th>\n",
       "      <td>ferritin_conc_gly_50_6</td>\n",
       "      <td>xpcs, 4 reps per spot, 220K, full beam</td>\n",
       "      <td>NaN</td>\n",
       "      <td>10.6</td>\n",
       "      <td>ferritin_conc_gly_50_6_0005</td>\n",
       "      <td>1-460</td>\n",
       "      <td>~2</td>\n",
       "      <td>220.0</td>\n",
       "      <td>NaN</td>\n",
       "      <td>0.0002</td>\n",
       "      <td>5000.0</td>\n",
       "      <td>16x7</td>\n",
       "      <td>4.0</td>\n",
       "      <td>112</td>\n",
       "      <td>1.0</td>\n",
       "      <td>100</td>\n",
       "      <td>0.0</td>\n",
       "      <td>0.0</td>\n",
       "      <td>np.arange(-0.34, 0.6, 0.06)</td>\n",
       "      <td>np.arange(5.76, 6.12, 0.06)</td>\n",
       "    </tr>\n",
       "  </tbody>\n",
       "</table>\n",
       "</div>"
      ],
      "text/plain": [
       "                     Sample                                 comment  \\\n",
       "135  ferritin_conc_gly_50_6  xpcs, 4 reps per spot, 220K, full beam   \n",
       "\n",
       "    Short comment Sample no. (label)           measurement folder scan number  \\\n",
       "135           NaN               10.6  ferritin_conc_gly_50_6_0005       1-460   \n",
       "\n",
       "    LN flow meter  Temperature, K Temperature, C  Exposure time (s)  \\\n",
       "135            ~2           220.0            NaN             0.0002   \n",
       "\n",
       "     number of frames Mesh (spots x lines)  reps per spot No of spots  \\\n",
       "135            5000.0                 16x7            4.0         112   \n",
       "\n",
       "     Total exposure time (s) transmission (%)  Absorbers 80um  \\\n",
       "135                      1.0              100             0.0   \n",
       "\n",
       "     Absorbers 100um               position y, mm               position z, mm  \n",
       "135              0.0  np.arange(-0.34, 0.6, 0.06)  np.arange(5.76, 6.12, 0.06)  "
      ]
     },
     "execution_count": 10,
     "metadata": {},
     "output_type": "execute_result"
    }
   ],
   "source": [
    "condition = elog['measurement folder'].str.contains('ferritin_conc_gly_50_6_0005', na=False)\n",
    "print(\"Temp: \", elog[condition][\"Temperature, K\"].values)\n",
    "print(\"Transm: \", elog[condition][\"transmission (%)\"].values)\n",
    "\n",
    "elog_entries = elog[condition]\n",
    "elog_entries"
   ]
  },
  {
   "cell_type": "code",
   "execution_count": 19,
   "metadata": {},
   "outputs": [
    {
     "name": "stdout",
     "output_type": "stream",
     "text": [
      "Sample \t ferritin_conc_gly_50_6\n",
      "comment \t xpcs, 4 reps per spot, 220K, full beam\n",
      "Short comment \t nan\n",
      "Sample no. (label) \t 10.6\n",
      "measurement folder \t ferritin_conc_gly_50_6_0005\n",
      "scan number \t 1-460\n",
      "LN flow meter \t ~2\n",
      "Temperature, K \t 220.0\n",
      "Temperature, C \t nan\n",
      "Exposure time (s) \t 0.0002\n",
      "number of frames \t 5000.0\n",
      "Mesh (spots x lines) \t 16x7\n",
      "reps per spot \t 4.0\n",
      "No of spots \t 112\n",
      "Total exposure time (s) \t 1.0\n",
      "transmission (%) \t 100\n",
      "Absorbers 80um \t 0.0\n",
      "Absorbers 100um \t 0.0\n",
      "position y, mm \t np.arange(-0.34, 0.6, 0.06)\n",
      "position z, mm \t np.arange(5.76, 6.12, 0.06)\n"
     ]
    }
   ],
   "source": [
    "for col in cols:\n",
    "    print(f'{col}', '\\t', (elog_entries[col].values[0]))"
   ]
  },
  {
   "cell_type": "code",
   "execution_count": 29,
   "metadata": {},
   "outputs": [
    {
     "name": "stdout",
     "output_type": "stream",
     "text": [
      "true\n"
     ]
    }
   ],
   "source": [
    "with h5py.File(\"test.h5\", 'a') as f: # w for read/write/create access\n",
    "    for col in cols:\n",
    "        f[f'/elog/{col}'] = elog_entries[col].values[0]\n",
    "\n",
    "if os.path.isfile(\"test.h5\"):\n",
    "    print(\"true\")"
   ]
  },
  {
   "cell_type": "code",
   "execution_count": 30,
   "metadata": {},
   "outputs": [],
   "source": [
    "# -- visit function for h5 viewing the structure of files\n",
    "def visit_func(name, node):\n",
    "    '''\n",
    "    Return all groups and datasets name and shapes of h5 file called name\n",
    "    '''\n",
    "    if isinstance(node, h5py.Group):\n",
    "        print(\"group\", node.name)\n",
    "    elif isinstance(node, h5py.Dataset):\n",
    "        if (node.dtype == 'object') :\n",
    "            print (node.name, 'is an object Dataset')\n",
    "        else:\n",
    "            print('\\t', node.name, node.shape)\n",
    "    else:\n",
    "        print(node.name, 'is an unknown type')"
   ]
  },
  {
   "cell_type": "code",
   "execution_count": 33,
   "metadata": {},
   "outputs": [
    {
     "name": "stdout",
     "output_type": "stream",
     "text": [
      "group /elog\n",
      "\t /elog/Absorbers 100um ()\n",
      "\t /elog/Absorbers 80um ()\n",
      "\t /elog/Exposure time (s) ()\n",
      "/elog/LN flow meter is an object Dataset\n",
      "/elog/Mesh (spots x lines) is an object Dataset\n",
      "/elog/No of spots is an object Dataset\n",
      "/elog/Sample is an object Dataset\n",
      "/elog/Sample no. (label) is an object Dataset\n",
      "\t /elog/Short comment ()\n",
      "\t /elog/Temperature, C ()\n",
      "\t /elog/Temperature, K ()\n",
      "\t /elog/Total exposure time (s) ()\n",
      "/elog/comment is an object Dataset\n",
      "/elog/measurement folder is an object Dataset\n",
      "\t /elog/number of frames ()\n",
      "/elog/position y, mm is an object Dataset\n",
      "/elog/position z, mm is an object Dataset\n",
      "\t /elog/reps per spot ()\n",
      "/elog/scan number is an object Dataset\n",
      "/elog/transmission (%) is an object Dataset\n"
     ]
    }
   ],
   "source": [
    "with h5py.File(\"test.h5\", 'a') as f:\n",
    "    f.visititems(visit_func)"
   ]
  },
  {
   "cell_type": "code",
   "execution_count": 25,
   "metadata": {},
   "outputs": [],
   "source": [
    "if os.path.isfile(\"test.h5\"):\n",
    "    print(\"true\")\n",
    "    os.system('rm -f test.h5')"
   ]
  },
  {
   "cell_type": "code",
   "execution_count": 21,
   "metadata": {},
   "outputs": [
    {
     "name": "stdout",
     "output_type": "stream",
     "text": [
      "01-mask-setup.ipynb  elog.ipynb  filtering.ipynb  interpretation.ipynb\ttest.h5\n"
     ]
    }
   ],
   "source": [
    "!ls"
   ]
  },
  {
   "cell_type": "code",
   "execution_count": 9,
   "metadata": {},
   "outputs": [],
   "source": [
    "# elog[(elog['Sample'].str.contains('ferritin_conc120_gly_50_1', na=False))]"
   ]
  },
  {
   "cell_type": "code",
   "execution_count": 11,
   "metadata": {},
   "outputs": [
    {
     "data": {
      "text/html": [
       "<div>\n",
       "<style scoped>\n",
       "    .dataframe tbody tr th:only-of-type {\n",
       "        vertical-align: middle;\n",
       "    }\n",
       "\n",
       "    .dataframe tbody tr th {\n",
       "        vertical-align: top;\n",
       "    }\n",
       "\n",
       "    .dataframe thead th {\n",
       "        text-align: right;\n",
       "    }\n",
       "</style>\n",
       "<table border=\"1\" class=\"dataframe\">\n",
       "  <thead>\n",
       "    <tr style=\"text-align: right;\">\n",
       "      <th></th>\n",
       "      <th>Sample</th>\n",
       "      <th>comment</th>\n",
       "      <th>Short comment</th>\n",
       "      <th>Sample no. (label)</th>\n",
       "      <th>measurement folder</th>\n",
       "      <th>scan number</th>\n",
       "      <th>LN flow meter</th>\n",
       "      <th>Temperature, K</th>\n",
       "      <th>Temperature, C</th>\n",
       "      <th>Exposure time (s)</th>\n",
       "      <th>number of frames</th>\n",
       "      <th>Mesh (spots x lines)</th>\n",
       "      <th>reps per spot</th>\n",
       "      <th>No of spots</th>\n",
       "      <th>Total exposure time (s)</th>\n",
       "      <th>transmission (%)</th>\n",
       "      <th>Absorbers 80um</th>\n",
       "      <th>Absorbers 100um</th>\n",
       "      <th>position y, mm</th>\n",
       "      <th>position z, mm</th>\n",
       "    </tr>\n",
       "  </thead>\n",
       "  <tbody>\n",
       "    <tr>\n",
       "      <th>196</th>\n",
       "      <td>ferritin_conc120_gly_50_1</td>\n",
       "      <td>xpcs_mesh 4 reps</td>\n",
       "      <td>died after 30th position</td>\n",
       "      <td>121</td>\n",
       "      <td>ferritin_conc120_gly_50_1_0006</td>\n",
       "      <td>6</td>\n",
       "      <td>NaN</td>\n",
       "      <td>240.0</td>\n",
       "      <td>NaN</td>\n",
       "      <td>0.0002</td>\n",
       "      <td>5000.0</td>\n",
       "      <td>NaN</td>\n",
       "      <td>4.0</td>\n",
       "      <td>NaN</td>\n",
       "      <td>1.0</td>\n",
       "      <td>100</td>\n",
       "      <td>0.0</td>\n",
       "      <td>0.0</td>\n",
       "      <td>NaN</td>\n",
       "      <td>NaN</td>\n",
       "    </tr>\n",
       "    <tr>\n",
       "      <th>197</th>\n",
       "      <td>ferritin_conc120_gly_50_1</td>\n",
       "      <td>xpcs_mesh 4 reps</td>\n",
       "      <td>NaN</td>\n",
       "      <td>121</td>\n",
       "      <td>ferritin_conc120_gly_50_1_0007</td>\n",
       "      <td>7</td>\n",
       "      <td>NaN</td>\n",
       "      <td>240.0</td>\n",
       "      <td>NaN</td>\n",
       "      <td>0.0002</td>\n",
       "      <td>5000.0</td>\n",
       "      <td>NaN</td>\n",
       "      <td>4.0</td>\n",
       "      <td>NaN</td>\n",
       "      <td>1.0</td>\n",
       "      <td>100</td>\n",
       "      <td>0.0</td>\n",
       "      <td>0.0</td>\n",
       "      <td>NaN</td>\n",
       "      <td>NaN</td>\n",
       "    </tr>\n",
       "  </tbody>\n",
       "</table>\n",
       "</div>"
      ],
      "text/plain": [
       "                        Sample           comment             Short comment  \\\n",
       "196  ferritin_conc120_gly_50_1  xpcs_mesh 4 reps  died after 30th position   \n",
       "197  ferritin_conc120_gly_50_1  xpcs_mesh 4 reps                       NaN   \n",
       "\n",
       "    Sample no. (label)              measurement folder scan number  \\\n",
       "196                121  ferritin_conc120_gly_50_1_0006           6   \n",
       "197                121  ferritin_conc120_gly_50_1_0007           7   \n",
       "\n",
       "    LN flow meter  Temperature, K Temperature, C  Exposure time (s)  \\\n",
       "196           NaN           240.0            NaN             0.0002   \n",
       "197           NaN           240.0            NaN             0.0002   \n",
       "\n",
       "     number of frames Mesh (spots x lines)  reps per spot No of spots  \\\n",
       "196            5000.0                  NaN            4.0         NaN   \n",
       "197            5000.0                  NaN            4.0         NaN   \n",
       "\n",
       "     Total exposure time (s) transmission (%)  Absorbers 80um  \\\n",
       "196                      1.0              100             0.0   \n",
       "197                      1.0              100             0.0   \n",
       "\n",
       "     Absorbers 100um position y, mm position z, mm  \n",
       "196              0.0            NaN            NaN  \n",
       "197              0.0            NaN            NaN  "
      ]
     },
     "execution_count": 11,
     "metadata": {},
     "output_type": "execute_result"
    }
   ],
   "source": [
    "elog[elog['Sample'].str.contains('ferritin_conc120_gly_50_1', na=False) & (elog['Temperature, K']==240)]"
   ]
  },
  {
   "cell_type": "code",
   "execution_count": null,
   "metadata": {},
   "outputs": [],
   "source": []
  }
 ],
 "metadata": {
  "celltoolbar": "Initialization Cell",
  "hide_input": false,
  "kernelspec": {
   "display_name": ".venv",
   "language": "python",
   "name": "python3"
  },
  "language_info": {
   "codemirror_mode": {
    "name": "ipython",
    "version": 3
   },
   "file_extension": ".py",
   "mimetype": "text/x-python",
   "name": "python",
   "nbconvert_exporter": "python",
   "pygments_lexer": "ipython3",
   "version": "3.8.5"
  },
  "toc": {
   "base_numbering": 1,
   "nav_menu": {},
   "number_sections": false,
   "sideBar": true,
   "skip_h1_title": false,
   "title_cell": "Table of Contents",
   "title_sidebar": "Contents",
   "toc_cell": false,
   "toc_position": {
    "height": "calc(100% - 180px)",
    "left": "10px",
    "top": "150px",
    "width": "291.973px"
   },
   "toc_section_display": true,
   "toc_window_display": false
  },
  "varInspector": {
   "cols": {
    "lenName": 16,
    "lenType": 16,
    "lenVar": 40
   },
   "kernels_config": {
    "python": {
     "delete_cmd_postfix": "",
     "delete_cmd_prefix": "del ",
     "library": "var_list.py",
     "varRefreshCmd": "print(var_dic_list())"
    },
    "r": {
     "delete_cmd_postfix": ") ",
     "delete_cmd_prefix": "rm(",
     "library": "var_list.r",
     "varRefreshCmd": "cat(var_dic_list()) "
    }
   },
   "position": {
    "height": "466.484px",
    "left": "1206.5px",
    "right": "20px",
    "top": "120px",
    "width": "303.496px"
   },
   "types_to_exclude": [
    "module",
    "function",
    "builtin_function_or_method",
    "instance",
    "_Feature"
   ],
   "window_display": false
  }
 },
 "nbformat": 4,
 "nbformat_minor": 4
}
