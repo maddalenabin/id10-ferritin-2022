{
 "cells": [
  {
   "cell_type": "markdown",
   "metadata": {},
   "source": [
    "# From Anita"
   ]
  },
  {
   "cell_type": "code",
   "execution_count": 1,
   "metadata": {},
   "outputs": [],
   "source": [
    "def glywater_conc(conc=0, vf=0):\n",
    "    # calculate the amount of glycerol starting from a 50 weight percent protein solution and glycerol\n",
    "    specific_volume_protein = 0.465e3 #ml mg−1\n",
    "    density_gly = 1.26 # g/ml\n",
    "    density_water = 0.997 # g/ml\n",
    "    density_protein = 1/0.465 # g/ml\n",
    "    #concentration=vf*density_protein*1000\n",
    "    \n",
    "    if conc == 0:\n",
    "        conc = vf*density_protein*1000\n",
    "    \n",
    "    if conc > 0:\n",
    "        #concentration=[240,190,140]\n",
    "        vf = conc/density_protein/1000\n",
    "    print('Volume fraction protein=',vf)\n",
    "    \n",
    "    vol_tot = 1\n",
    "    vol_protein = vol_tot*(vf)\n",
    "    vol_gly = (vol_tot*density_water+(density_protein-density_water)*vol_protein)/(density_gly+density_water)\n",
    "    vol_water = vol_tot-vol_protein-vol_gly\n",
    "    \n",
    "    totalvolfrac = vol_gly/(vol_gly+vol_water)\n",
    "    \n",
    "    initial_vf = vol_protein/vol_water\n",
    "    initial_concentration = initial_vf*(density_protein)*1000\n",
    "    salt_cocentration = 1/(vol_water+vol_protein)\n",
    "    return totalvolfrac\n",
    "\n",
    "def glywater_conc_seq(vf_hydration_water,conc=0,vf=0 ):\n",
    "    # calculate the amount of glycerol starting from a 50 weight percent protein solution and glycerol\n",
    "    specific_volume_protein=0.465e3 #ml mg−1\n",
    "    density_gly=1.26 # g/ml\n",
    "    density_water=.997 # g/ml\n",
    "    density_protein=1/.465 # g/ml\n",
    "    #concentration=vf*density_protein*1000\n",
    "    if conc==0:\n",
    "        conc=vf*density_protein*1000\n",
    "    if conc>0:\n",
    "    #concentration=[240,190,140]\n",
    "        vf=conc/density_protein/1000\n",
    "    print('Volume fraction protein=',vf)\n",
    "    \n",
    "    vol_tot=1\n",
    "    vol_protein=vol_tot*(vf)\n",
    "    vol_gly=(vol_tot*density_water+(density_protein-density_water)*vol_protein)/(density_gly+density_water)\n",
    "    vol_water=vol_tot-vol_protein-vol_gly-vf_hydration_water\n",
    "    \n",
    "    totalvolfrac=vol_gly/(vol_gly+vol_water)\n",
    "    \n",
    "    initial_vf=vol_protein/vol_water\n",
    "    initial_concentration=initial_vf*(density_protein)*1000\n",
    "    salt_cocentration=1/(vol_water+vol_protein)\n",
    "    \n",
    "    return totalvolfrac\n",
    "\n",
    "def viscosity_glywater(T,weight_percent=0,volume_percent=0,waterVol=0,glycerolVol=0):\n",
    "    #Variables ----------------\n",
    "    #T              #temperature (degrees Celcius)\n",
    "    #waterVol       #volume of water required (ml)\n",
    "    #glycerolVol    #volume of Glycerol used (ml)\n",
    "    #Densities ----------------\n",
    "    glycerolDen = (1273.3-0.6121*T)/1000            #Density of Glycerol (g/cm3)\n",
    "    waterDen = (1-math.pow(((abs(T-4))/622),1.7))   #Density of water (g/cm3)\n",
    "    \n",
    "    if (waterVol==0)|(glycerolVol==0):\n",
    "        if weight_percent!=0:\n",
    "            glycerolVol=weight_percent/glycerolDen\n",
    "            waterVol=1-glycerolVol\n",
    "        if volume_percent!=0:\n",
    "            glycerolVol=volume_percent\n",
    "            waterVol=1-glycerolVol\n",
    "    #Fraction cacluator ----------------\n",
    "    glycerolMass=glycerolDen*glycerolVol\n",
    "    waterMass=waterDen*waterVol\n",
    "    totalMass=glycerolMass+waterMass\n",
    "    mass_fraction=glycerolMass/totalMass\n",
    "    vol_fraction= glycerolVol/(glycerolVol+waterVol)\n",
    "    print (\"Mass fraction of mixture =\", round(mass_fraction,5))\n",
    "    print (\"Volume fraction of mixture =\", round(vol_fraction,5))\n",
    "    #Density calculator ----------------\n",
    "    ##Andreas Volk polynomial method\n",
    "    contraction_av = 1-math.pow(3.520E-8*((mass_fraction*100)),3)+math.pow(1.027E-6*((mass_fraction*100)),2)+2.5E-4*(mass_fraction*100)-1.691E-4\n",
    "    contraction = 1+contraction_av/100\n",
    "    ## Distorted sine approximation method\n",
    "    #contraction_pc = 1.1*math.pow(math.sin(numpy.radians(math.pow(mass_fraction,1.3)*180)),0.85)\n",
    "    #contraction = 1 + contraction_pc/100\n",
    "    density_mix=(glycerolDen*vol_fraction+waterDen*(1-vol_fraction))*contraction\n",
    "    print (\"Density of mixture =\",round(density_mix,5),\"g/cm3\")\n",
    "    #Viscosity calcualtor ----------------\n",
    "    glycerolVisc=0.001*12100*np.exp((-1233+T)*T/(9900+70*T))\n",
    "    waterVisc=0.001*1.790*np.exp((-1230-T)*T/(36100+360*T))\n",
    "    a=0.705-0.0017*T\n",
    "    b=(4.9+0.036*T)*np.power(a,2.5)\n",
    "    alpha=1-mass_fraction+(a*b*mass_fraction*(1-mass_fraction))/(a*mass_fraction+b*(1-mass_fraction))\n",
    "    A=np.log(waterVisc/glycerolVisc)\n",
    "    viscosity_mix=glycerolVisc*np.exp(A*alpha)\n",
    "    print (\"Viscosity of mixture =\",round(viscosity_mix,5), \"Ns/m2\")\n",
    "    \n",
    "    return viscosity_mix"
   ]
  },
  {
   "cell_type": "code",
   "execution_count": 2,
   "metadata": {},
   "outputs": [
    {
     "name": "stdout",
     "output_type": "stream",
     "text": [
      "Volume fraction protein= 0.04743\n",
      "\t gly vol fraction 0.49\n",
      "Volume fraction protein= 0.06277500000000001\n",
      "\t gly vol fraction 0.51\n",
      "Volume fraction protein= 0.14601000000000003\n",
      "\t gly vol fraction 0.60\n"
     ]
    }
   ],
   "source": [
    "# glywater_conc(conc=0, vf=0)\n",
    "concs_id10 = [102, 135, 314]\n",
    "gly_vfs = []\n",
    "for conc in concs_id10:\n",
    "    vf = glywater_conc(conc=conc)\n",
    "    gly_vfs.append(vf*100)\n",
    "    print('\\t gly vol fraction', f'{vf:.2f}')"
   ]
  },
  {
   "cell_type": "markdown",
   "metadata": {},
   "source": [
    "**Now use Sharon's functions**"
   ]
  },
  {
   "cell_type": "code",
   "execution_count": 17,
   "metadata": {},
   "outputs": [
    {
     "name": "stdout",
     "output_type": "stream",
     "text": [
      "mol%: 19.2\n",
      "volume (ul) cryoprotectant: 48.9\n",
      "volume (ul) water: 51.1\n",
      "mass (mg) cryoprotectant: 61.7\n",
      "mass (mg) water: 50.9\n",
      "vol%: 48.9\n",
      "w%: 54.8\n",
      "\n",
      "\n",
      "mol%: 20.2\n",
      "volume (ul) cryoprotectant: 50.6\n",
      "volume (ul) water: 49.4\n",
      "mass (mg) cryoprotectant: 63.8\n",
      "mass (mg) water: 49.3\n",
      "vol%: 50.6\n",
      "w%: 56.4\n",
      "\n",
      "\n",
      "mol%: 27.5\n",
      "volume (ul) cryoprotectant: 60.5\n",
      "volume (ul) water: 39.5\n",
      "mass (mg) cryoprotectant: 76.2\n",
      "mass (mg) water: 39.4\n",
      "vol%: 60.5\n",
      "w%: 65.9\n",
      "\n",
      "\n"
     ]
    }
   ],
   "source": [
    "cryoprotectant = 'glycerol'\n",
    "\n",
    "gly_mol = []\n",
    "gly_w = []\n",
    "\n",
    "for i,volume in enumerate(gly_vfs):\n",
    "    gly_mol.append(vol2mol(cryoprotectant, volume)*100)\n",
    "    gly_w.append(vol2mass(cryoprotectant, V1=volume))\n",
    "\n",
    "    # mass = mol2volmass(cryoprotectant, gly_mol[i], Vtot=1000)\n",
    "    # print('\\n', mass[1])\n",
    "    # print(gly_mol[i], '\\n')\n",
    "    print('\\n')"
   ]
  },
  {
   "cell_type": "code",
   "execution_count": 18,
   "metadata": {},
   "outputs": [
    {
     "name": "stdout",
     "output_type": "stream",
     "text": [
      "c (mg/ml) \t v% \t w% \t mol% \t \n",
      "102 \t\t 48.9 \t 54.8 \t 19.2\n",
      "135 \t\t 50.6 \t 56.4 \t 20.2\n",
      "314 \t\t 60.5 \t 65.9 \t 27.5\n"
     ]
    }
   ],
   "source": [
    "print('c (mg/ml) \\t v% \\t w% \\t mol% \\t ')\n",
    "for i in range(len(gly_mol)):\n",
    "    print(f'{concs_id10[i]:.0f} \\t\\t {gly_vfs[i]:.1f} \\t {gly_w[i]:.1f} \\t {gly_mol[i]:.1f}')"
   ]
  },
  {
   "cell_type": "code",
   "execution_count": null,
   "metadata": {},
   "outputs": [],
   "source": [
    "cryoprotectant = 'glycerol'\n",
    "vol2mass(cryoprotectant, V1=48.9)"
   ]
  },
  {
   "cell_type": "markdown",
   "metadata": {},
   "source": [
    "**For SU13**"
   ]
  },
  {
   "cell_type": "code",
   "execution_count": 22,
   "metadata": {},
   "outputs": [
    {
     "name": "stdout",
     "output_type": "stream",
     "text": [
      "mol%: 23.2\n",
      "23.22403599089117\n",
      "volume (ul) cryoprotectant: 55.0\n",
      "volume (ul) water: 45.0\n",
      "mass (mg) cryoprotectant: 69.4\n",
      "mass (mg) water: 44.9\n",
      "vol%: 55.0\n",
      "w%: 60.7\n",
      "60.720539310103305\n"
     ]
    }
   ],
   "source": [
    "print(vol2mol(cryoprotectant, 55)*100)\n",
    "print(vol2mass(cryoprotectant, V1=55))"
   ]
  },
  {
   "cell_type": "code",
   "execution_count": null,
   "metadata": {},
   "outputs": [],
   "source": []
  },
  {
   "cell_type": "markdown",
   "metadata": {},
   "source": [
    "# From Sharon"
   ]
  },
  {
   "cell_type": "code",
   "execution_count": 4,
   "metadata": {},
   "outputs": [],
   "source": [
    "import numpy as np"
   ]
  },
  {
   "cell_type": "markdown",
   "metadata": {},
   "source": [
    "**Solvent Parameters**"
   ]
  },
  {
   "cell_type": "code",
   "execution_count": 5,
   "metadata": {},
   "outputs": [],
   "source": [
    "# molecular weight, g/mol\n",
    "molar_w = {\n",
    "  \"water\": 18.02,\n",
    "  \"glycerol\": 92.09,\n",
    "  \"dmso\": 78.13,\n",
    "  \"acetone\": 58.08,\n",
    "  \"trehalose\": 342.296\n",
    "}\n",
    "\n",
    "# density, g/ml\n",
    "density = {\n",
    "  \"water\": 0.997,\n",
    "  \"glycerol\": 1.261,\n",
    "  \"dmso\": 1.1004,\n",
    "  \"acetone\": 0.784\n",
    "}"
   ]
  },
  {
   "cell_type": "markdown",
   "metadata": {},
   "source": [
    "**Functions**"
   ]
  },
  {
   "cell_type": "code",
   "execution_count": 6,
   "metadata": {},
   "outputs": [],
   "source": [
    "############\n",
    "# this need to be revied to use volume fraction instead of absolute volume\n",
    "############\n",
    "\n",
    "def vol2mass(cryoprotectant, V1, Vtot=100):\n",
    "# converts volume to vmass fraction \n",
    "# input: name of cryoprotectant (string), V1 of cryoprotectant and total sample volume (default: 100 ul)\n",
    "    \n",
    "    Mw1 = molar_w[cryoprotectant]\n",
    "    rho1 = density[cryoprotectant]\n",
    "    Mw2 = molar_w['water']\n",
    "    rho2 = density['water']\n",
    "\n",
    "    V2 = (Vtot-V1) # ul water\n",
    "    vol = V1/Vtot # volume fraction cryoprotectant\n",
    "    \n",
    "    m1 = rho1*V1 # mg cryoprotectant\n",
    "    m2 = rho2*V2 # mg water\n",
    "    w = m1/(m1+m2)\n",
    "\n",
    "    print(r'volume (ul) cryoprotectant:', '%.1f' %(V1))\n",
    "    print(r'volume (ul) water:', '%.1f' %(V2))\n",
    "    print(r'mass (mg) cryoprotectant:', '%.1f' %(m1))\n",
    "    print(r'mass (mg) water:', '%.1f' %(m2))\n",
    "    print(r'vol%:', '%.1f' %(vol*100))\n",
    "    print(r'w%:', '%.1f' %(w*100))\n",
    "    \n",
    "    return w*100"
   ]
  },
  {
   "cell_type": "code",
   "execution_count": 7,
   "metadata": {},
   "outputs": [],
   "source": [
    "\n",
    "def mol2volmass(cryoprotectant, mol, Vtot=1000):\n",
    "# converts mol% to volume/mass fraction \n",
    "# input: name of cryoprotectant (string), mol% and total sample volume (default: 1000 ul)\n",
    "    \n",
    "    Mw1 = molar_w[cryoprotectant]\n",
    "    rho1 = density[cryoprotectant]\n",
    "    Mw2 = molar_w['water']\n",
    "    rho2 = density['water']\n",
    "\n",
    "    x1 = mol/100 # mol fraction of cryoprotectant\n",
    "    #Vtot = 1000 # ul\n",
    "\n",
    "    V1 = (-(x1*rho2*Vtot/Mw2)/(x1*rho1/Mw1-x1*rho2/Mw2-rho1/Mw1)) # ul cryoprotectant\n",
    "    V2 = (Vtot-V1) # ul water\n",
    "    vol = V1/Vtot # volume fraction cryoprotectant\n",
    "    \n",
    "    m1 = rho1*V1 # mg cryoprotectant\n",
    "    m2 = rho2*V2 # mg water\n",
    "    w = m1/(m1+m2)\n",
    "\n",
    "    print(r'volume (ul) cryoprotectant:', '%.1f' %(V1))\n",
    "    print(r'volume (ul) water:', '%.1f' %(V2))\n",
    "    print(r'mass (mg) cryoprotectant:', '%.1f' %(m1))\n",
    "    print(r'mass (mg) water:', '%.1f' %(m2))\n",
    "    print(r'vol%:', '%.1f' %(vol*100))\n",
    "    print(r'w%:', '%.1f' %(w*100))\n",
    "    \n",
    "    return vol, w # volume fraction, mass fraction"
   ]
  },
  {
   "cell_type": "code",
   "execution_count": 8,
   "metadata": {},
   "outputs": [],
   "source": [
    "def vol2mol(cryoprotectant, vol):\n",
    "# converts vol% to molar fraction\n",
    "# input: name of cryoprotectant (string), vol% \n",
    "    \n",
    "    Mw1 = molar_w[cryoprotectant]\n",
    "    rho1 = density[cryoprotectant]\n",
    "    Mw2 = molar_w['water']\n",
    "    rho2 = density['water']\n",
    "    \n",
    "    V1 = vol/100 # volume of cryoprotectant\n",
    "    V2 = 1-V1 # volume of water\n",
    "    mol = (rho1*V1/Mw1)/(rho1*V1/Mw1 + rho2*V2/Mw2) # molar fraction cryoprotectant\n",
    "\n",
    "    print(r'mol%:', '%.1f' %(mol*100))\n",
    "    \n",
    "    return mol # mol fraction"
   ]
  },
  {
   "cell_type": "code",
   "execution_count": 9,
   "metadata": {},
   "outputs": [],
   "source": [
    "def mass2mol(cryoprotectant, w, mtot=1000):\n",
    "# converts mass to molar fraction\n",
    "# input: name of cryoprotectant (string), w% \n",
    "    \n",
    "    Mw1 = molar_w[cryoprotectant]\n",
    "    Mw2 = molar_w['water']\n",
    "    \n",
    "    m1 = w/100*mtot\n",
    "    m2 = mtot-m1\n",
    "    mol = (m1/Mw1)/(m1/Mw1 + m2/Mw2) # molar fraction cryoprotectant\n",
    "\n",
    "    print(r'mol%:', '%.1f' %(mol*100))\n",
    "    print(r'mass (mg) cryoprotectant:', '%.1f' %(m1))\n",
    "    print(r'mass (mg) water:', '%.1f' %(m2))\n",
    "    \n",
    "    return mol # mol fraction"
   ]
  },
  {
   "cell_type": "code",
   "execution_count": 23,
   "metadata": {},
   "outputs": [
    {
     "name": "stdout",
     "output_type": "stream",
     "text": [
      "mol%: 16.4\n",
      "mass (mg) cryoprotectant: 500.0\n",
      "mass (mg) water: 500.0\n"
     ]
    },
    {
     "data": {
      "text/plain": [
       "0.16365452729089092"
      ]
     },
     "execution_count": 23,
     "metadata": {},
     "output_type": "execute_result"
    }
   ],
   "source": [
    "mass2mol(cryoprotectant, 50, mtot=1000)"
   ]
  },
  {
   "cell_type": "code",
   "execution_count": 24,
   "metadata": {},
   "outputs": [
    {
     "name": "stdout",
     "output_type": "stream",
     "text": [
      "volume (ul) cryoprotectant: 442.2\n",
      "volume (ul) water: 557.8\n",
      "mass (mg) cryoprotectant: 557.6\n",
      "mass (mg) water: 556.2\n",
      "vol%: 44.2\n",
      "w%: 50.1\n"
     ]
    },
    {
     "data": {
      "text/plain": [
       "(0.44216314032823595, 0.5006304802389857)"
      ]
     },
     "execution_count": 24,
     "metadata": {},
     "output_type": "execute_result"
    }
   ],
   "source": [
    "mol2volmass(cryoprotectant, 16.4, Vtot=1000)"
   ]
  },
  {
   "cell_type": "code",
   "execution_count": 10,
   "metadata": {},
   "outputs": [
    {
     "name": "stdout",
     "output_type": "stream",
     "text": [
      "volume (ul) cryoprotectant: 48.9\n",
      "volume (ul) water: 51.1\n",
      "mass (mg) cryoprotectant: 61.7\n",
      "mass (mg) water: 50.9\n",
      "vol%: 48.9\n",
      "w%: 54.8\n"
     ]
    },
    {
     "data": {
      "text/plain": [
       "54.758120089228626"
      ]
     },
     "execution_count": 10,
     "metadata": {},
     "output_type": "execute_result"
    }
   ],
   "source": [
    "cryoprotectant = 'glycerol'\n",
    "vol2mass(cryoprotectant, V1=48.9)"
   ]
  },
  {
   "cell_type": "markdown",
   "metadata": {},
   "source": [
    "## Molar fraction to volume/mass fraction"
   ]
  },
  {
   "cell_type": "code",
   "execution_count": 11,
   "metadata": {},
   "outputs": [
    {
     "name": "stdout",
     "output_type": "stream",
     "text": [
      "volume (ul) cryoprotectant: 546.9\n",
      "volume (ul) water: 453.1\n",
      "mass (mg) cryoprotectant: 689.6\n",
      "mass (mg) water: 451.8\n",
      "vol%: 54.7\n",
      "w%: 60.4\n"
     ]
    },
    {
     "data": {
      "text/plain": [
       "(0.5468777516304932, 0.604194419801404)"
      ]
     },
     "execution_count": 11,
     "metadata": {},
     "output_type": "execute_result"
    }
   ],
   "source": [
    "cryoprotectant = 'glycerol' # 46.7, 52.5\n",
    "mol = 0.23*100 # mol% cryoprotectant\n",
    "\n",
    "mol2volmass(cryoprotectant, mol, Vtot=1000)"
   ]
  },
  {
   "cell_type": "markdown",
   "metadata": {},
   "source": [
    "## Volume to molar fraction"
   ]
  },
  {
   "cell_type": "code",
   "execution_count": 12,
   "metadata": {},
   "outputs": [
    {
     "name": "stdout",
     "output_type": "stream",
     "text": [
      "mol%: 23.2\n"
     ]
    },
    {
     "data": {
      "text/plain": [
       "0.2322403599089117"
      ]
     },
     "execution_count": 12,
     "metadata": {},
     "output_type": "execute_result"
    }
   ],
   "source": [
    "cryoprotectant = 'glycerol'\n",
    "vol = 55 # vol% cryoprotectant\n",
    "vol2mol(cryoprotectant, vol)"
   ]
  },
  {
   "cell_type": "markdown",
   "metadata": {},
   "source": [
    "## Mass to molar fraction"
   ]
  },
  {
   "cell_type": "code",
   "execution_count": 13,
   "metadata": {},
   "outputs": [
    {
     "name": "stdout",
     "output_type": "stream",
     "text": [
      "mol%: 5.0\n",
      "mass (mg) cryoprotectant: 0.5\n",
      "mass (mg) water: 0.5\n"
     ]
    },
    {
     "data": {
      "text/plain": [
       "0.05001165643490714"
      ]
     },
     "execution_count": 13,
     "metadata": {},
     "output_type": "execute_result"
    }
   ],
   "source": [
    "cryoprotectant = 'trehalose'\n",
    "#m_cryo =\n",
    "#m_wat =\n",
    "mtot = 1\n",
    "w = 50  #m_cryo/(m_cryo+m_wat)*100 # w% cryoprotectant\n",
    "mass2mol(cryoprotectant, w, mtot=mtot)#m_cryo+m_wat)"
   ]
  },
  {
   "cell_type": "markdown",
   "metadata": {},
   "source": [
    "# Calculate the viscosity of gly/wat for temperatures"
   ]
  },
  {
   "cell_type": "code",
   "execution_count": 14,
   "metadata": {},
   "outputs": [],
   "source": [
    "T = [263., 268., 273., 278., 283., 288., 293., 298.]\n"
   ]
  },
  {
   "cell_type": "code",
   "execution_count": 15,
   "metadata": {},
   "outputs": [],
   "source": [
    "def viscosity_glywater(T,weight_percent=0,volume_percent=0,waterVol=0,glycerolVol=0):\n",
    "\n",
    "    #Variables ----------------\n",
    "    #T\t\t\t\t#temperature (degrees Celcius)\n",
    "    #waterVol \t\t#volume of water required (ml)\n",
    "    #glycerolVol \t#volume of Glycerol used (ml)\n",
    "\n",
    "    #Densities ----------------\n",
    "    glycerolDen = (1273.3-0.6121*T)/1000 \t\t\t#Density of Glycerol (g/cm3)\n",
    "    waterDen = (1-(((abs(T-4))/622)**1.7)) \t#Density of water (g/cm3)\n",
    "\n",
    "    if (waterVol==0)|(glycerolVol==0):\n",
    "\n",
    "        if weight_percent!=0:\n",
    "            glycerolVol=weight_percent/glycerolDen\n",
    "            waterVol=1-glycerolVol\n",
    "\n",
    "        if volume_percent!=0:\n",
    "            glycerolVol=volume_percent\n",
    "            waterVol=1-glycerolVol\n",
    "\n",
    "    #Fraction cacluator ----------------\n",
    "\n",
    "    glycerolMass=glycerolDen*glycerolVol\n",
    "    waterMass=waterDen*waterVol\n",
    "    totalMass=glycerolMass+waterMass\n",
    "    mass_fraction=glycerolMass/totalMass\n",
    "    vol_fraction= glycerolVol/(glycerolVol+waterVol)\n",
    "\n",
    "    #print (\"Mass fraction of mixture =\", round(mass_fraction,5))\n",
    "    #print (\"Volume fraction of mixture =\", round(vol_fraction,5))\n",
    "\n",
    "\n",
    "    #Density calculator ----------------\n",
    "\n",
    "    ##Andreas Volk polynomial method\n",
    "    contraction_av = 1-(3.520E-8*((mass_fraction*100)))**3+(1.027E-6*((mass_fraction*100)))**2+2.5E-4*(mass_fraction*100)-1.691E-4\n",
    "    contraction = 1+contraction_av/100\n",
    "\n",
    "    ## Distorted sine approximation method\n",
    "    #contraction_pc = 1.1*math.pow(math.sin(numpy.radians(math.pow(mass_fraction,1.3)*180)),0.85)\n",
    "    #contraction = 1 + contraction_pc/100\n",
    "\n",
    "    density_mix=(glycerolDen*vol_fraction+waterDen*(1-vol_fraction))*contraction\n",
    "\n",
    "    #print (\"Density of mixture =\",round(density_mix,5),\"g/cm3\")\n",
    "\n",
    "\n",
    "    #Viscosity calcualtor ----------------\n",
    "\n",
    "    glycerolVisc=0.001*12100*np.exp((-1233+T)*T/(9900+70*T))\n",
    "    waterVisc=0.001*1.790*np.exp((-1230-T)*T/(36100+360*T))\n",
    "\n",
    "    a=0.705-0.0017*T\n",
    "    b=(4.9+0.036*T)*np.power(a,2.5)\n",
    "    alpha=1-mass_fraction+(a*b*mass_fraction*(1-mass_fraction))/(a*mass_fraction+b*(1-mass_fraction))\n",
    "    A=np.log(waterVisc/glycerolVisc)\n",
    "\n",
    "    viscosity_mix=glycerolVisc*np.exp(A*alpha)\n",
    "\n",
    "    #print (\"Viscosity of mixture =\",round(viscosity_mix,5), \"Ns/m2\")\n",
    "    return viscosity_mix\n",
    "        ############################################################################"
   ]
  },
  {
   "cell_type": "code",
   "execution_count": 16,
   "metadata": {},
   "outputs": [
    {
     "data": {
      "text/plain": [
       "array([0.06490008, 0.04534389, 0.03272376, 0.02429894, 0.01850505,\n",
       "       0.01440547, 0.01143365, 0.00923277])"
      ]
     },
     "execution_count": 16,
     "metadata": {},
     "output_type": "execute_result"
    }
   ],
   "source": [
    "T = [263., 268., 273., 278., 283., 288., 293., 298.]\n",
    "TC = np.array(T)-273\n",
    "\n",
    "viscosity_glywater(TC,volume_percent=0.55)"
   ]
  },
  {
   "cell_type": "code",
   "execution_count": null,
   "metadata": {},
   "outputs": [],
   "source": []
  },
  {
   "cell_type": "code",
   "execution_count": null,
   "metadata": {},
   "outputs": [],
   "source": []
  }
 ],
 "metadata": {
  "kernelspec": {
   "display_name": ".venv",
   "language": "python",
   "name": "python3"
  },
  "language_info": {
   "codemirror_mode": {
    "name": "ipython",
    "version": 3
   },
   "file_extension": ".py",
   "mimetype": "text/x-python",
   "name": "python",
   "nbconvert_exporter": "python",
   "pygments_lexer": "ipython3",
   "version": "3.8.5"
  }
 },
 "nbformat": 4,
 "nbformat_minor": 2
}
