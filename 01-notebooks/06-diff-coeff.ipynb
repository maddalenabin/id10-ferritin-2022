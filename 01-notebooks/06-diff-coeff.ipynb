{
 "cells": [
  {
   "cell_type": "code",
   "execution_count": 1,
   "metadata": {},
   "outputs": [
    {
     "data": {
      "text/html": [
       "<style>.container { width:90% !important; }</style>"
      ],
      "text/plain": [
       "<IPython.core.display.HTML object>"
      ]
     },
     "metadata": {},
     "output_type": "display_data"
    }
   ],
   "source": [
    "%matplotlib inline\n",
    "# %matplotlib widget\n",
    "%load_ext autoreload\n",
    "%autoreload 2\n",
    "from IPython.display import display, HTML\n",
    "display(HTML(\"<style>.container { width:90% !important; }</style>\"))\n",
    "\n",
    "import sys\n",
    "sys.path.insert(0, 'functions/')\n",
    "from h5_tools import *\n",
    "from tools import *\n",
    "import numpy as np\n",
    "import matplotlib as mpl\n",
    "import matplotlib.pyplot as plt\n",
    "import pandas as pd\n",
    "import seaborn as sns\n",
    "from scipy import interpolate\n",
    "import warnings\n",
    "warnings.filterwarnings(\"ignore\")\n",
    "\n",
    "# plot general settings\n",
    "mpl.rcParams.update({\"axes.grid\" : True, \"grid.color\": \"gray\", \"grid.linestyle\":\":\", \"grid.alpha\": \"0.7\"})"
   ]
  },
  {
   "cell_type": "markdown",
   "metadata": {},
   "source": [
    "### Functions"
   ]
  },
  {
   "cell_type": "code",
   "execution_count": 2,
   "metadata": {},
   "outputs": [],
   "source": [
    "def get_diff_coeff_library(filename='../03-source/diffusion_coefficient'):\n",
    "    \"\"\"Return dataframe with diffusion coefficients from the experimental data\n",
    "    \"\"\"\n",
    "    df = pd.read_pickle(filename)\n",
    "    df['temperature'] = df['temperature'].replace(243, 240)\n",
    "    df['transmission'] = df['transmission'].str.replace('%', '')\n",
    "    df['transmission'] = df['transmission'].str.replace('nan', '100')\n",
    "    df['transmission'] = df['transmission'].str.replace('~', '')\n",
    "    df['transmission'] = df['transmission'].astype(float)\n",
    "    \n",
    "    return df\n",
    "\n",
    "def load_npz_data(filename):\n",
    "    \"\"\"Loads data from npz file and return a dictionary\n",
    "    \"\"\"\n",
    "    file = np.load(filename)\n",
    "    data = {key: file[key] for key in file.files}\n",
    "\n",
    "    return data"
   ]
  },
  {
   "cell_type": "code",
   "execution_count": 3,
   "metadata": {},
   "outputs": [],
   "source": [
    "# form dx.doi.org/10.1021/je101164q |J. Chem. Eng. Data 2011, 56, 1397–1406 in mPa*s\n",
    "eta_50w_ref = {273.15: 14.6, 268.15: 18.8, 263.15: 24.4, 258.15: 36.0, 253.15: 48.1, 248.15: 78.6, 243.15: 123, 238.15: 203}"
   ]
  },
  {
   "cell_type": "code",
   "execution_count": 4,
   "metadata": {},
   "outputs": [
    {
     "data": {
      "text/plain": [
       "[2.368793187496658e-12,\n",
       " 1.805921000681089e-12,\n",
       " 1.3655020118097436e-12,\n",
       " 9.079217600975276e-13,\n",
       " 6.663641920761801e-13,\n",
       " 3.997334849137091e-13,\n",
       " 2.50292570646917e-13,\n",
       " 1.4853655401440421e-13]"
      ]
     },
     "execution_count": 4,
     "metadata": {},
     "output_type": "execute_result"
    }
   ],
   "source": [
    "Rh = 5.785e-9\n",
    "Tsref, Dref = [], []\n",
    "\n",
    "for T in eta_50w_ref.keys():\n",
    "    Tsref.append(T)\n",
    "    # print(T, eta_50w_ref[T])\n",
    "    Dref.append(D_coeff(T=T, eta=eta_50w_ref[T]*1e-3, Rh=Rh))\n",
    "Dref"
   ]
  },
  {
   "attachments": {},
   "cell_type": "markdown",
   "metadata": {},
   "source": [
    "# Load data"
   ]
  },
  {
   "cell_type": "markdown",
   "metadata": {},
   "source": [
    "Load viscosities"
   ]
  },
  {
   "cell_type": "code",
   "execution_count": 5,
   "metadata": {},
   "outputs": [
    {
     "data": {
      "text/html": [
       "<div>\n",
       "<style scoped>\n",
       "    .dataframe tbody tr th:only-of-type {\n",
       "        vertical-align: middle;\n",
       "    }\n",
       "\n",
       "    .dataframe tbody tr th {\n",
       "        vertical-align: top;\n",
       "    }\n",
       "\n",
       "    .dataframe thead th {\n",
       "        text-align: right;\n",
       "    }\n",
       "</style>\n",
       "<table border=\"1\" class=\"dataframe\">\n",
       "  <thead>\n",
       "    <tr style=\"text-align: right;\">\n",
       "      <th></th>\n",
       "      <th>temp</th>\n",
       "      <th>50w%</th>\n",
       "      <th>50v%</th>\n",
       "      <th>60v%</th>\n",
       "      <th>c1</th>\n",
       "      <th>c2</th>\n",
       "      <th>c3</th>\n",
       "    </tr>\n",
       "  </thead>\n",
       "  <tbody>\n",
       "    <tr>\n",
       "      <th>0</th>\n",
       "      <td>300</td>\n",
       "      <td>0.004674</td>\n",
       "      <td>0.006357</td>\n",
       "      <td>0.011691</td>\n",
       "      <td>0.006726</td>\n",
       "      <td>0.008012</td>\n",
       "      <td>0.010947</td>\n",
       "    </tr>\n",
       "    <tr>\n",
       "      <th>1</th>\n",
       "      <td>290</td>\n",
       "      <td>0.006771</td>\n",
       "      <td>0.009497</td>\n",
       "      <td>0.018606</td>\n",
       "      <td>0.010106</td>\n",
       "      <td>0.012256</td>\n",
       "      <td>0.017301</td>\n",
       "    </tr>\n",
       "    <tr>\n",
       "      <th>2</th>\n",
       "      <td>280</td>\n",
       "      <td>0.010448</td>\n",
       "      <td>0.015197</td>\n",
       "      <td>0.032089</td>\n",
       "      <td>0.016282</td>\n",
       "      <td>0.020171</td>\n",
       "      <td>0.029595</td>\n",
       "    </tr>\n",
       "    <tr>\n",
       "      <th>3</th>\n",
       "      <td>270</td>\n",
       "      <td>0.017490</td>\n",
       "      <td>0.026578</td>\n",
       "      <td>0.061359</td>\n",
       "      <td>0.028708</td>\n",
       "      <td>0.036484</td>\n",
       "      <td>0.056042</td>\n",
       "    </tr>\n",
       "    <tr>\n",
       "      <th>4</th>\n",
       "      <td>260</td>\n",
       "      <td>0.032565</td>\n",
       "      <td>0.052163</td>\n",
       "      <td>0.134000</td>\n",
       "      <td>0.056900</td>\n",
       "      <td>0.074554</td>\n",
       "      <td>0.120980</td>\n",
       "    </tr>\n",
       "    <tr>\n",
       "      <th>5</th>\n",
       "      <td>250</td>\n",
       "      <td>0.069890</td>\n",
       "      <td>0.119340</td>\n",
       "      <td>0.348570</td>\n",
       "      <td>0.131720</td>\n",
       "      <td>0.179070</td>\n",
       "      <td>0.310370</td>\n",
       "    </tr>\n",
       "    <tr>\n",
       "      <th>6</th>\n",
       "      <td>240</td>\n",
       "      <td>0.182690</td>\n",
       "      <td>0.337190</td>\n",
       "      <td>1.149900</td>\n",
       "      <td>0.377570</td>\n",
       "      <td>0.536700</td>\n",
       "      <td>1.007000</td>\n",
       "    </tr>\n",
       "    <tr>\n",
       "      <th>7</th>\n",
       "      <td>230</td>\n",
       "      <td>0.635210</td>\n",
       "      <td>1.289300</td>\n",
       "      <td>5.300200</td>\n",
       "      <td>1.469200</td>\n",
       "      <td>2.204400</td>\n",
       "      <td>4.550300</td>\n",
       "    </tr>\n",
       "    <tr>\n",
       "      <th>8</th>\n",
       "      <td>220</td>\n",
       "      <td>3.416900</td>\n",
       "      <td>7.785200</td>\n",
       "      <td>40.015000</td>\n",
       "      <td>9.060500</td>\n",
       "      <td>14.508000</td>\n",
       "      <td>33.555000</td>\n",
       "    </tr>\n",
       "    <tr>\n",
       "      <th>9</th>\n",
       "      <td>210</td>\n",
       "      <td>37.846000</td>\n",
       "      <td>98.826000</td>\n",
       "      <td>657.370000</td>\n",
       "      <td>117.890000</td>\n",
       "      <td>203.600000</td>\n",
       "      <td>536.700000</td>\n",
       "    </tr>\n",
       "  </tbody>\n",
       "</table>\n",
       "</div>"
      ],
      "text/plain": [
       "   temp       50w%       50v%        60v%          c1          c2          c3\n",
       "0   300   0.004674   0.006357    0.011691    0.006726    0.008012    0.010947\n",
       "1   290   0.006771   0.009497    0.018606    0.010106    0.012256    0.017301\n",
       "2   280   0.010448   0.015197    0.032089    0.016282    0.020171    0.029595\n",
       "3   270   0.017490   0.026578    0.061359    0.028708    0.036484    0.056042\n",
       "4   260   0.032565   0.052163    0.134000    0.056900    0.074554    0.120980\n",
       "5   250   0.069890   0.119340    0.348570    0.131720    0.179070    0.310370\n",
       "6   240   0.182690   0.337190    1.149900    0.377570    0.536700    1.007000\n",
       "7   230   0.635210   1.289300    5.300200    1.469200    2.204400    4.550300\n",
       "8   220   3.416900   7.785200   40.015000    9.060500   14.508000   33.555000\n",
       "9   210  37.846000  98.826000  657.370000  117.890000  203.600000  536.700000"
      ]
     },
     "execution_count": 5,
     "metadata": {},
     "output_type": "execute_result"
    }
   ],
   "source": [
    "etas = viscosity()\n",
    "etas#['50w%']"
   ]
  },
  {
   "cell_type": "markdown",
   "metadata": {},
   "source": [
    "Load diffusion coefficients from DLS measurements"
   ]
  },
  {
   "cell_type": "code",
   "execution_count": 6,
   "metadata": {},
   "outputs": [],
   "source": [
    "DLS = load_npz_data('../03-source/DLS_diff_coeff.npz') # D in m^2/s, T in K\n",
    "DLS['D'] = DLS['D']*1e12"
   ]
  },
  {
   "cell_type": "markdown",
   "metadata": {},
   "source": [
    "Load experimental diffusion coefficients from ID10"
   ]
  },
  {
   "cell_type": "code",
   "execution_count": 7,
   "metadata": {},
   "outputs": [
    {
     "data": {
      "text/html": [
       "<div>\n",
       "<style scoped>\n",
       "    .dataframe tbody tr th:only-of-type {\n",
       "        vertical-align: middle;\n",
       "    }\n",
       "\n",
       "    .dataframe tbody tr th {\n",
       "        vertical-align: top;\n",
       "    }\n",
       "\n",
       "    .dataframe thead th {\n",
       "        text-align: right;\n",
       "    }\n",
       "</style>\n",
       "<table border=\"1\" class=\"dataframe\">\n",
       "  <thead>\n",
       "    <tr style=\"text-align: right;\">\n",
       "      <th></th>\n",
       "      <th>temperature</th>\n",
       "      <th>transmission</th>\n",
       "      <th>D</th>\n",
       "      <th>dD</th>\n",
       "      <th>c</th>\n",
       "    </tr>\n",
       "  </thead>\n",
       "  <tbody>\n",
       "    <tr>\n",
       "      <th>0</th>\n",
       "      <td>240</td>\n",
       "      <td>45.00</td>\n",
       "      <td>0.044803</td>\n",
       "      <td>0.000973</td>\n",
       "      <td>c1</td>\n",
       "    </tr>\n",
       "    <tr>\n",
       "      <th>1</th>\n",
       "      <td>240</td>\n",
       "      <td>100.00</td>\n",
       "      <td>0.058330</td>\n",
       "      <td>0.002202</td>\n",
       "      <td>c1</td>\n",
       "    </tr>\n",
       "    <tr>\n",
       "      <th>2</th>\n",
       "      <td>220</td>\n",
       "      <td>100.00</td>\n",
       "      <td>0.005152</td>\n",
       "      <td>0.000091</td>\n",
       "      <td>c1</td>\n",
       "    </tr>\n",
       "    <tr>\n",
       "      <th>3</th>\n",
       "      <td>220</td>\n",
       "      <td>45.00</td>\n",
       "      <td>0.004381</td>\n",
       "      <td>0.000073</td>\n",
       "      <td>c1</td>\n",
       "    </tr>\n",
       "    <tr>\n",
       "      <th>4</th>\n",
       "      <td>220</td>\n",
       "      <td>22.50</td>\n",
       "      <td>0.004355</td>\n",
       "      <td>0.000077</td>\n",
       "      <td>c1</td>\n",
       "    </tr>\n",
       "    <tr>\n",
       "      <th>5</th>\n",
       "      <td>240</td>\n",
       "      <td>100.00</td>\n",
       "      <td>0.004758</td>\n",
       "      <td>0.000055</td>\n",
       "      <td>c3</td>\n",
       "    </tr>\n",
       "    <tr>\n",
       "      <th>6</th>\n",
       "      <td>240</td>\n",
       "      <td>45.00</td>\n",
       "      <td>0.003454</td>\n",
       "      <td>0.000134</td>\n",
       "      <td>c3</td>\n",
       "    </tr>\n",
       "    <tr>\n",
       "      <th>7</th>\n",
       "      <td>240</td>\n",
       "      <td>22.50</td>\n",
       "      <td>0.003750</td>\n",
       "      <td>0.000246</td>\n",
       "      <td>c3</td>\n",
       "    </tr>\n",
       "    <tr>\n",
       "      <th>8</th>\n",
       "      <td>240</td>\n",
       "      <td>11.25</td>\n",
       "      <td>0.002887</td>\n",
       "      <td>0.000091</td>\n",
       "      <td>c3</td>\n",
       "    </tr>\n",
       "    <tr>\n",
       "      <th>9</th>\n",
       "      <td>250</td>\n",
       "      <td>100.00</td>\n",
       "      <td>0.140541</td>\n",
       "      <td>0.003009</td>\n",
       "      <td>c1</td>\n",
       "    </tr>\n",
       "    <tr>\n",
       "      <th>10</th>\n",
       "      <td>240</td>\n",
       "      <td>100.00</td>\n",
       "      <td>0.058330</td>\n",
       "      <td>0.002202</td>\n",
       "      <td>c1</td>\n",
       "    </tr>\n",
       "    <tr>\n",
       "      <th>11</th>\n",
       "      <td>230</td>\n",
       "      <td>100.00</td>\n",
       "      <td>0.018305</td>\n",
       "      <td>0.000290</td>\n",
       "      <td>c1</td>\n",
       "    </tr>\n",
       "    <tr>\n",
       "      <th>12</th>\n",
       "      <td>220</td>\n",
       "      <td>100.00</td>\n",
       "      <td>0.006419</td>\n",
       "      <td>0.000093</td>\n",
       "      <td>c1</td>\n",
       "    </tr>\n",
       "    <tr>\n",
       "      <th>13</th>\n",
       "      <td>210</td>\n",
       "      <td>100.00</td>\n",
       "      <td>0.002091</td>\n",
       "      <td>0.000042</td>\n",
       "      <td>c1</td>\n",
       "    </tr>\n",
       "    <tr>\n",
       "      <th>14</th>\n",
       "      <td>260</td>\n",
       "      <td>100.00</td>\n",
       "      <td>0.036022</td>\n",
       "      <td>0.002633</td>\n",
       "      <td>c3</td>\n",
       "    </tr>\n",
       "    <tr>\n",
       "      <th>15</th>\n",
       "      <td>250</td>\n",
       "      <td>100.00</td>\n",
       "      <td>0.013706</td>\n",
       "      <td>0.000473</td>\n",
       "      <td>c3</td>\n",
       "    </tr>\n",
       "    <tr>\n",
       "      <th>16</th>\n",
       "      <td>240</td>\n",
       "      <td>100.00</td>\n",
       "      <td>0.005881</td>\n",
       "      <td>0.000173</td>\n",
       "      <td>c3</td>\n",
       "    </tr>\n",
       "    <tr>\n",
       "      <th>17</th>\n",
       "      <td>230</td>\n",
       "      <td>100.00</td>\n",
       "      <td>0.002195</td>\n",
       "      <td>0.000087</td>\n",
       "      <td>c3</td>\n",
       "    </tr>\n",
       "    <tr>\n",
       "      <th>18</th>\n",
       "      <td>250</td>\n",
       "      <td>100.00</td>\n",
       "      <td>0.047516</td>\n",
       "      <td>0.003283</td>\n",
       "      <td>c2</td>\n",
       "    </tr>\n",
       "    <tr>\n",
       "      <th>19</th>\n",
       "      <td>240</td>\n",
       "      <td>100.00</td>\n",
       "      <td>0.015848</td>\n",
       "      <td>0.000249</td>\n",
       "      <td>c2</td>\n",
       "    </tr>\n",
       "    <tr>\n",
       "      <th>20</th>\n",
       "      <td>260</td>\n",
       "      <td>100.00</td>\n",
       "      <td>0.121895</td>\n",
       "      <td>0.002851</td>\n",
       "      <td>c2</td>\n",
       "    </tr>\n",
       "  </tbody>\n",
       "</table>\n",
       "</div>"
      ],
      "text/plain": [
       "    temperature  transmission         D        dD   c\n",
       "0           240         45.00  0.044803  0.000973  c1\n",
       "1           240        100.00  0.058330  0.002202  c1\n",
       "2           220        100.00  0.005152  0.000091  c1\n",
       "3           220         45.00  0.004381  0.000073  c1\n",
       "4           220         22.50  0.004355  0.000077  c1\n",
       "5           240        100.00  0.004758  0.000055  c3\n",
       "6           240         45.00  0.003454  0.000134  c3\n",
       "7           240         22.50  0.003750  0.000246  c3\n",
       "8           240         11.25  0.002887  0.000091  c3\n",
       "9           250        100.00  0.140541  0.003009  c1\n",
       "10          240        100.00  0.058330  0.002202  c1\n",
       "11          230        100.00  0.018305  0.000290  c1\n",
       "12          220        100.00  0.006419  0.000093  c1\n",
       "13          210        100.00  0.002091  0.000042  c1\n",
       "14          260        100.00  0.036022  0.002633  c3\n",
       "15          250        100.00  0.013706  0.000473  c3\n",
       "16          240        100.00  0.005881  0.000173  c3\n",
       "17          230        100.00  0.002195  0.000087  c3\n",
       "18          250        100.00  0.047516  0.003283  c2\n",
       "19          240        100.00  0.015848  0.000249  c2\n",
       "20          260        100.00  0.121895  0.002851  c2"
      ]
     },
     "execution_count": 7,
     "metadata": {},
     "output_type": "execute_result"
    }
   ],
   "source": [
    "df2 = get_diff_coeff_library()\n",
    "df2"
   ]
  },
  {
   "cell_type": "markdown",
   "metadata": {},
   "source": [
    "Sort the database"
   ]
  },
  {
   "cell_type": "code",
   "execution_count": 8,
   "metadata": {},
   "outputs": [],
   "source": [
    "df2 = df2.sort_values(by='transmission', ascending=False)\n",
    "df2 = df2.sort_values(by='c')"
   ]
  },
  {
   "cell_type": "code",
   "execution_count": 9,
   "metadata": {},
   "outputs": [
    {
     "data": {
      "text/html": [
       "<div>\n",
       "<style scoped>\n",
       "    .dataframe tbody tr th:only-of-type {\n",
       "        vertical-align: middle;\n",
       "    }\n",
       "\n",
       "    .dataframe tbody tr th {\n",
       "        vertical-align: top;\n",
       "    }\n",
       "\n",
       "    .dataframe thead th {\n",
       "        text-align: right;\n",
       "    }\n",
       "</style>\n",
       "<table border=\"1\" class=\"dataframe\">\n",
       "  <thead>\n",
       "    <tr style=\"text-align: right;\">\n",
       "      <th></th>\n",
       "      <th>temperature</th>\n",
       "      <th>transmission</th>\n",
       "      <th>D</th>\n",
       "      <th>dD</th>\n",
       "      <th>c</th>\n",
       "    </tr>\n",
       "  </thead>\n",
       "  <tbody>\n",
       "    <tr>\n",
       "      <th>20</th>\n",
       "      <td>260</td>\n",
       "      <td>100.0</td>\n",
       "      <td>0.121895</td>\n",
       "      <td>0.002851</td>\n",
       "      <td>c2</td>\n",
       "    </tr>\n",
       "    <tr>\n",
       "      <th>18</th>\n",
       "      <td>250</td>\n",
       "      <td>100.0</td>\n",
       "      <td>0.047516</td>\n",
       "      <td>0.003283</td>\n",
       "      <td>c2</td>\n",
       "    </tr>\n",
       "    <tr>\n",
       "      <th>19</th>\n",
       "      <td>240</td>\n",
       "      <td>100.0</td>\n",
       "      <td>0.015848</td>\n",
       "      <td>0.000249</td>\n",
       "      <td>c2</td>\n",
       "    </tr>\n",
       "  </tbody>\n",
       "</table>\n",
       "</div>"
      ],
      "text/plain": [
       "    temperature  transmission         D        dD   c\n",
       "20          260         100.0  0.121895  0.002851  c2\n",
       "18          250         100.0  0.047516  0.003283  c2\n",
       "19          240         100.0  0.015848  0.000249  c2"
      ]
     },
     "execution_count": 9,
     "metadata": {},
     "output_type": "execute_result"
    }
   ],
   "source": [
    "df2[df2['c']=='c2']"
   ]
  },
  {
   "cell_type": "markdown",
   "metadata": {},
   "source": [
    "Get temperatures from the database"
   ]
  },
  {
   "cell_type": "code",
   "execution_count": 10,
   "metadata": {},
   "outputs": [
    {
     "data": {
      "text/plain": [
       "array([210, 220, 230, 240, 250, 260])"
      ]
     },
     "execution_count": 10,
     "metadata": {},
     "output_type": "execute_result"
    }
   ],
   "source": [
    "Ts = df2.sort_values(by='temperature')['temperature'].unique()\n",
    "Ts"
   ]
  },
  {
   "cell_type": "markdown",
   "metadata": {},
   "source": [
    "Import the viscosity values for variable temperature and get the diffusion coefficient from Stockes-Einsten relation"
   ]
  },
  {
   "cell_type": "code",
   "execution_count": 11,
   "metadata": {},
   "outputs": [],
   "source": [
    "# eta50w = etas['50w%'] #eta_50w_gly()\n",
    "# eta50 = etas['50v%'] #eta_50v_gly()\n",
    "# eta60 = etas['60v%'] #eta_60v_gly()"
   ]
  },
  {
   "cell_type": "code",
   "execution_count": 12,
   "metadata": {},
   "outputs": [
    {
     "data": {
      "text/plain": [
       "98.826"
      ]
     },
     "execution_count": 12,
     "metadata": {},
     "output_type": "execute_result"
    }
   ],
   "source": [
    "T = 210\n",
    "etas[etas['temp']==T]['50v%'].values[0]"
   ]
  },
  {
   "cell_type": "code",
   "execution_count": 13,
   "metadata": {},
   "outputs": [
    {
     "data": {
      "text/html": [
       "<div>\n",
       "<style scoped>\n",
       "    .dataframe tbody tr th:only-of-type {\n",
       "        vertical-align: middle;\n",
       "    }\n",
       "\n",
       "    .dataframe tbody tr th {\n",
       "        vertical-align: top;\n",
       "    }\n",
       "\n",
       "    .dataframe thead th {\n",
       "        text-align: right;\n",
       "    }\n",
       "</style>\n",
       "<table border=\"1\" class=\"dataframe\">\n",
       "  <thead>\n",
       "    <tr style=\"text-align: right;\">\n",
       "      <th></th>\n",
       "      <th>temperature</th>\n",
       "      <th>D_c1</th>\n",
       "      <th>D_c2</th>\n",
       "      <th>D_c3</th>\n",
       "    </tr>\n",
       "  </thead>\n",
       "  <tbody>\n",
       "    <tr>\n",
       "      <th>0</th>\n",
       "      <td>300.0</td>\n",
       "      <td>5.647162e-12</td>\n",
       "      <td>4.740882e-12</td>\n",
       "      <td>3.469804e-12</td>\n",
       "    </tr>\n",
       "    <tr>\n",
       "      <th>1</th>\n",
       "      <td>290.0</td>\n",
       "      <td>3.633269e-12</td>\n",
       "      <td>2.995905e-12</td>\n",
       "      <td>2.122294e-12</td>\n",
       "    </tr>\n",
       "    <tr>\n",
       "      <th>2</th>\n",
       "      <td>280.0</td>\n",
       "      <td>2.177354e-12</td>\n",
       "      <td>1.757557e-12</td>\n",
       "      <td>1.197894e-12</td>\n",
       "    </tr>\n",
       "    <tr>\n",
       "      <th>3</th>\n",
       "      <td>270.0</td>\n",
       "      <td>1.190802e-12</td>\n",
       "      <td>9.370011e-13</td>\n",
       "      <td>6.099987e-13</td>\n",
       "    </tr>\n",
       "    <tr>\n",
       "      <th>4</th>\n",
       "      <td>260.0</td>\n",
       "      <td>5.785486e-13</td>\n",
       "      <td>4.415513e-13</td>\n",
       "      <td>2.721063e-13</td>\n",
       "    </tr>\n",
       "    <tr>\n",
       "      <th>5</th>\n",
       "      <td>250.0</td>\n",
       "      <td>2.403074e-13</td>\n",
       "      <td>1.767649e-13</td>\n",
       "      <td>1.019857e-13</td>\n",
       "    </tr>\n",
       "    <tr>\n",
       "      <th>6</th>\n",
       "      <td>240.0</td>\n",
       "      <td>8.048085e-14</td>\n",
       "      <td>5.661851e-14</td>\n",
       "      <td>3.017592e-14</td>\n",
       "    </tr>\n",
       "    <tr>\n",
       "      <th>7</th>\n",
       "      <td>230.0</td>\n",
       "      <td>1.982101e-14</td>\n",
       "      <td>1.321041e-14</td>\n",
       "      <td>6.399803e-15</td>\n",
       "    </tr>\n",
       "    <tr>\n",
       "      <th>8</th>\n",
       "      <td>220.0</td>\n",
       "      <td>3.074322e-15</td>\n",
       "      <td>1.919968e-15</td>\n",
       "      <td>8.301264e-16</td>\n",
       "    </tr>\n",
       "    <tr>\n",
       "      <th>9</th>\n",
       "      <td>210.0</td>\n",
       "      <td>2.255387e-16</td>\n",
       "      <td>1.305931e-16</td>\n",
       "      <td>4.954120e-17</td>\n",
       "    </tr>\n",
       "  </tbody>\n",
       "</table>\n",
       "</div>"
      ],
      "text/plain": [
       "   temperature          D_c1          D_c2          D_c3\n",
       "0        300.0  5.647162e-12  4.740882e-12  3.469804e-12\n",
       "1        290.0  3.633269e-12  2.995905e-12  2.122294e-12\n",
       "2        280.0  2.177354e-12  1.757557e-12  1.197894e-12\n",
       "3        270.0  1.190802e-12  9.370011e-13  6.099987e-13\n",
       "4        260.0  5.785486e-13  4.415513e-13  2.721063e-13\n",
       "5        250.0  2.403074e-13  1.767649e-13  1.019857e-13\n",
       "6        240.0  8.048085e-14  5.661851e-14  3.017592e-14\n",
       "7        230.0  1.982101e-14  1.321041e-14  6.399803e-15\n",
       "8        220.0  3.074322e-15  1.919968e-15  8.301264e-16\n",
       "9        210.0  2.255387e-16  1.305931e-16  4.954120e-17"
      ]
     },
     "execution_count": 13,
     "metadata": {},
     "output_type": "execute_result"
    }
   ],
   "source": [
    "SE2 = pd.DataFrame(columns=['temperature', 'D_50', 'D_60'])\n",
    "SE = pd.DataFrame(columns=['temperature', 'D_c1', 'D_c2', 'D_c3'])\n",
    "\n",
    "for T in etas['temp']:\n",
    "    # default uses Rh=6.6e-9 m\n",
    "    row2 = {'temperature': T,  'D_50': D_coeff(T=T, eta=etas[etas['temp']==T]['50v%'].values[0], Rh=Rh), \"D_60\": D_coeff(T=T, eta=etas[etas['temp']==T]['60v%'].values[0], Rh=Rh), \"D_50w\": D_coeff(T=T, eta=etas[etas['temp']==T]['50w%'].values[0], Rh=Rh)}\n",
    "    SE2 = SE2.append(row2, ignore_index=True)\n",
    "    \n",
    "    row = {'temperature': T,  'D_c1': D_coeff(T=T, eta=etas[etas['temp']==T]['c1'].values[0], Rh=Rh), \"D_c2\": D_coeff(T=T, eta=etas[etas['temp']==T]['c2'].values[0], Rh=Rh), \"D_c3\": D_coeff(T=T, eta=etas[etas['temp']==T]['c3'].values[0], Rh=Rh)}\n",
    "    SE = SE.append(row, ignore_index=True)\n",
    "SE"
   ]
  },
  {
   "cell_type": "markdown",
   "metadata": {},
   "source": [
    "# Plots"
   ]
  },
  {
   "cell_type": "code",
   "execution_count": 14,
   "metadata": {},
   "outputs": [
    {
     "data": {
      "image/png": "[encoded data removed]",
      "text/plain": [
       "<Figure size 504x324 with 1 Axes>"
      ]
     },
     "metadata": {
      "needs_background": "light"
     },
     "output_type": "display_data"
    }
   ],
   "source": [
    "fig, ax = plt.subplots(1,1, figsize=(7,4.5), constrained_layout=True)\n",
    "ax.plot(SE['temperature'], SE2['D_50w']*1e12, label='SE 50w%', c='k', marker='x', ms=4, ls=':')\n",
    "# ax.plot(SE['temperature'], SE['D_50']*1e12, label='SE 50v%', c='C3', marker='o', ms=4)\n",
    "# ax.plot(SE['temperature'], SE['D_60']*1e12, label='SE 60v%', c='C3', marker='o', ms=4, ls='--')\n",
    "ax.plot(SE['temperature'], SE['D_c1']*1e12, label='SE c1', c='C0', marker='o', ms=4, ls=':')\n",
    "ax.plot(SE['temperature'], SE['D_c2']*1e12, label='SE c2', c='C1', marker='o', ms=4, ls=':')\n",
    "ax.plot(SE['temperature'], SE['D_c3']*1e12, label='SE c3', c='C2', marker='o', ms=4, ls=':')\n",
    "\n",
    "ax.plot(DLS['T'], DLS['D'], marker='s', c='k', ls='', label='DLS', alpha=.5)\n",
    "sns.scatterplot(data=df2, x='temperature', y='D', hue='c', alpha=.5, size='transmission',sizes=(40, 200), palette=\"muted\", ax=ax)\n",
    "\n",
    "ax.set_ylabel('Diffusion coefficient ($nm^2/\\mu s$)', fontsize=12)\n",
    "ax.set_xlabel('Temperature (K)', fontsize=12)\n",
    "ax.set_yscale('log')\n",
    "ax.legend(bbox_to_anchor=[1,1])\n",
    "ax.grid(ls=':', c='gray', alpha=.6)"
   ]
  },
  {
   "cell_type": "markdown",
   "metadata": {},
   "source": [
    "## Arrhenius plot"
   ]
  },
  {
   "cell_type": "code",
   "execution_count": 15,
   "metadata": {},
   "outputs": [
    {
     "data": {
      "text/html": [
       "<div>\n",
       "<style scoped>\n",
       "    .dataframe tbody tr th:only-of-type {\n",
       "        vertical-align: middle;\n",
       "    }\n",
       "\n",
       "    .dataframe tbody tr th {\n",
       "        vertical-align: top;\n",
       "    }\n",
       "\n",
       "    .dataframe thead th {\n",
       "        text-align: right;\n",
       "    }\n",
       "</style>\n",
       "<table border=\"1\" class=\"dataframe\">\n",
       "  <thead>\n",
       "    <tr style=\"text-align: right;\">\n",
       "      <th></th>\n",
       "      <th>temperature</th>\n",
       "      <th>transmission</th>\n",
       "      <th>D</th>\n",
       "      <th>dD</th>\n",
       "      <th>c</th>\n",
       "    </tr>\n",
       "  </thead>\n",
       "  <tbody>\n",
       "    <tr>\n",
       "      <th>19</th>\n",
       "      <td>240</td>\n",
       "      <td>100.0</td>\n",
       "      <td>0.015848</td>\n",
       "      <td>0.000249</td>\n",
       "      <td>c2</td>\n",
       "    </tr>\n",
       "    <tr>\n",
       "      <th>18</th>\n",
       "      <td>250</td>\n",
       "      <td>100.0</td>\n",
       "      <td>0.047516</td>\n",
       "      <td>0.003283</td>\n",
       "      <td>c2</td>\n",
       "    </tr>\n",
       "    <tr>\n",
       "      <th>20</th>\n",
       "      <td>260</td>\n",
       "      <td>100.0</td>\n",
       "      <td>0.121895</td>\n",
       "      <td>0.002851</td>\n",
       "      <td>c2</td>\n",
       "    </tr>\n",
       "  </tbody>\n",
       "</table>\n",
       "</div>"
      ],
      "text/plain": [
       "    temperature  transmission         D        dD   c\n",
       "19          240         100.0  0.015848  0.000249  c2\n",
       "18          250         100.0  0.047516  0.003283  c2\n",
       "20          260         100.0  0.121895  0.002851  c2"
      ]
     },
     "execution_count": 15,
     "metadata": {},
     "output_type": "execute_result"
    }
   ],
   "source": [
    "D_c1 = df2[(df2['c']=='c1') & (df2['transmission']==100)].sort_values(by='temperature')\n",
    "D_c2 = df2[(df2['c']=='c2') & (df2['transmission']==100)].sort_values(by='temperature')\n",
    "D_c3 = df2[(df2['c']=='c3') & (df2['transmission']==100)].sort_values(by='temperature')\n",
    "D_c2"
   ]
  },
  {
   "cell_type": "code",
   "execution_count": 16,
   "metadata": {},
   "outputs": [],
   "source": [
    "# SE_test = pd.DataFrame(columns=['temperature', 'D_50', 'D_60'])\n",
    "Rh = 5.785e-9\n",
    "\n",
    "# for T in eta50.keys():\n",
    "#     row = {'temperature': T, 'D_50w': D_coeff(T=T, eta=eta50w[T],  Rh=Rh)}\n",
    "#     SE_test = SE_test.append(row, ignore_index=True)"
   ]
  },
  {
   "cell_type": "code",
   "execution_count": 17,
   "metadata": {},
   "outputs": [
    {
     "data": {
      "text/plain": [
       "Text(0.5, 0, 'T (K)')"
      ]
     },
     "execution_count": 17,
     "metadata": {},
     "output_type": "execute_result"
    },
    {
     "data": {
      "image/png": "[encoded data removed]",
      "text/plain": [
       "<Figure size 504x396 with 2 Axes>"
      ]
     },
     "metadata": {
      "needs_background": "light"
     },
     "output_type": "display_data"
    }
   ],
   "source": [
    "fig, ax = plt.subplots(1,1, figsize=(7,5.5), constrained_layout=True)\n",
    "ax2 = ax.twiny()\n",
    "scale = 1e3\n",
    "\n",
    "# references\n",
    "ax.plot(scale/SE2['temperature'], SE2['D_50w'], label=f'SE 50w% website', c='r', marker='x', ms=4, ls=':') # Rh={Rh:.1e}, \n",
    "ax.plot(scale/np.array(Tsref), Dref, marker='x', c='k', ms=4, ls=':', label=f'SE 50w% ref') # Rh={Rh:.1e}, \n",
    "ax.plot(scale/DLS['T'], DLS['D']*1e-12, marker='s', c='k', ls='', ms=8, label='DLS', alpha=.5)\n",
    "\n",
    "ax.plot(scale/SE['temperature'], SE['D_c1'], label='SE c1', c='C0', marker='x', ms=4, ls=':')\n",
    "ax.plot(scale/SE['temperature'], SE['D_c2'], label='SE c2', c='C1', marker='x', ms=4, ls=':')\n",
    "ax.plot(scale/SE['temperature'], SE['D_c3'], label='SE c3', c='C2', marker='x', ms=4, ls=':')\n",
    "\n",
    "\n",
    "# id10 data\n",
    "for db, c in zip([D_c1, D_c2, D_c3], [\"C0\", \"C1\", \"C2\"]):\n",
    "    ax.errorbar(scale/db['temperature'],  db['D']*1e-12, db['dD']*1e-12, c=c, marker='o', ms=8, alpha=.7, label=c)\n",
    "\n",
    "ax.set_ylabel('Diffusion coefficient ($nm^2/\\mu s$)', fontsize=14)\n",
    "ax.set_xlabel(f'{scale:.0f}/T (1/K)', fontsize=14)\n",
    "ax.set_xticks(scale/SE['temperature'].values)\n",
    "ax.set_xticklabels(['%.1f' %x for x in scale/SE['temperature'].values])\n",
    "ax.set_yscale('log')\n",
    "ax.legend()#bbox_to_anchor=[1,1])\n",
    "ax.grid(ls=':', c='gray', alpha=.6)\n",
    "# ax.set_title('Arrhenius plot')\n",
    "\n",
    "ax2.set_xlim(ax.get_xlim())\n",
    "ax2.set_xticks(scale/SE['temperature'].values)\n",
    "ax2.set_xticklabels([\"%.0f\" %x for x in SE['temperature'].values])\n",
    "ax2.set_xlabel('T (K)', fontsize=14)"
   ]
  },
  {
   "cell_type": "markdown",
   "metadata": {},
   "source": [
    "## Normalize curves  "
   ]
  },
  {
   "cell_type": "markdown",
   "metadata": {},
   "source": [
    "**by D at 240K**"
   ]
  },
  {
   "cell_type": "code",
   "execution_count": 18,
   "metadata": {},
   "outputs": [
    {
     "data": {
      "text/plain": [
       "Text(0.5, 0, 'T (K)')"
      ]
     },
     "execution_count": 18,
     "metadata": {},
     "output_type": "execute_result"
    },
    {
     "data": {
      "image/png": "[encoded data removed]",
      "text/plain": [
       "<Figure size 360x288 with 2 Axes>"
      ]
     },
     "metadata": {
      "needs_background": "light"
     },
     "output_type": "display_data"
    }
   ],
   "source": [
    "fig, ax = plt.subplots(1,1, figsize=(5,4), constrained_layout=True)\n",
    "\n",
    "ax2 = ax.twiny()\n",
    "\n",
    "scale, T_norm = 1e3, 250\n",
    "\n",
    "# references\n",
    "# ax.plot(scale/SE_test['temperature'], SE_test['D_50w'] / SE_test.loc[SE['temperature'] == T_norm]['D_50w'].values[0], label=f'Rh={Rh:.1e}, SE 50w% website', c='r', marker='o', ms=4, ls=':') \n",
    "# ax.plot(scale/SE['temperature'], SE['D_50'] / SE.loc[SE['temperature'] == T_norm]['D_50'].values[0], label='SE 50v%', c='C3', marker='o', ms=4)\n",
    "# ax.plot(scale/SE['temperature'], SE['D_60']/ SE.loc[SE['temperature'] == T_norm]['D_60'].values[0], label='SE 60v%', c='C3', marker='o', ms=4, ls='--')\n",
    "# ax.plot(scale/np.array(Tsref), Dref, marker='o', c='k', ms=4, ls='', label=f'Rh={Rh:.1e}, SE 50w% ref')\n",
    "ax.plot(scale/DLS['T'], DLS['D']*1e-12 / SE2.loc[SE2['temperature'] == T_norm]['D_50w'].values[0], marker='s', c='k', ls='', ms=8, label='DLS', alpha=.5)\n",
    "\n",
    "ax.plot(scale/SE['temperature'], SE['D_c1'] / SE.loc[SE['temperature'] == T_norm]['D_c1'].values[0], label='SE c1', c='C0', marker='x', ms=4, ls=':')\n",
    "ax.plot(scale/SE['temperature'], SE['D_c2'] / SE.loc[SE['temperature'] == T_norm]['D_c2'].values[0], label='SE c2', c='C1', marker='x', ms=4, ls=':')\n",
    "ax.plot(scale/SE['temperature'], SE['D_c3'] / SE.loc[SE['temperature'] == T_norm]['D_c3'].values[0], label='SE c3', c='C2', marker='x', ms=4, ls=':')\n",
    "\n",
    "for db, c in zip([D_c1, D_c2, D_c3], [\"C0\", \"C1\", \"C2\"]):\n",
    "    temp = db['temperature'].values\n",
    "    ax.plot(scale/temp,  db['D']/db.loc[db['temperature'] == T_norm]['D'].values[0], c=c, marker='o', ms=8, alpha=.7, label=c)\n",
    "\n",
    "\n",
    "ax.set_ylabel(f'D / D(T={T_norm:.0f}K)', fontsize=12)\n",
    "ax.set_xlabel(f'{scale:.0f}/T (1/K)', fontsize=12)\n",
    "ax.set_xticks(scale/SE['temperature'].values)\n",
    "ax.set_xticklabels(['%.1f' %x for x in scale/SE['temperature'].values])\n",
    "ax.set_yscale('log')\n",
    "ax.legend()\n",
    "ax.grid(ls=':', c='gray', alpha=.6)\n",
    "# ax.set_title('Arrhenius plot')\n",
    "\n",
    "ax2.set_xlim(ax.get_xlim())\n",
    "ax2.set_xticks(scale/SE['temperature'].values)\n",
    "ax2.set_xticklabels([\"%.0f\" %x for x in SE['temperature'].values])\n",
    "ax2.set_xlabel('T (K)')"
   ]
  },
  {
   "cell_type": "markdown",
   "metadata": {},
   "source": [
    "**by viscosity**"
   ]
  },
  {
   "cell_type": "code",
   "execution_count": 19,
   "metadata": {},
   "outputs": [],
   "source": [
    "kb = 1.380649e-23 # m2 kg s-2 K-1\n",
    "Rh = 5.785e-9 # m\n",
    "norm = kb / (6 * np.pi * Rh)"
   ]
  },
  {
   "cell_type": "markdown",
   "metadata": {},
   "source": [
    "**viscosity**"
   ]
  },
  {
   "cell_type": "code",
   "execution_count": 20,
   "metadata": {},
   "outputs": [
    {
     "data": {
      "image/png": "[encoded data removed]",
      "text/plain": [
       "<Figure size 504x324 with 1 Axes>"
      ]
     },
     "metadata": {
      "needs_background": "light"
     },
     "output_type": "display_data"
    }
   ],
   "source": [
    "fig, ax = plt.subplots(1,1, figsize=(7,4.5), constrained_layout=True)\n",
    "\n",
    "ax.plot(SE['temperature'], etas['c1'], label='SE c1', c='C0', marker='x', ms=4, ls=':')\n",
    "ax.plot(SE['temperature'], etas['c2'], label='SE c2', c='C1', marker='x', ms=4, ls=':')\n",
    "ax.plot(SE['temperature'], etas['c3'], label='SE c3', c='C2', marker='x', ms=4, ls=':')\n",
    "\n",
    "ax.set_ylabel('Viscosity', fontsize=12)\n",
    "ax.set_xlabel('T (K)', fontsize=12)\n",
    "ax.legend(bbox_to_anchor=[1,1])\n",
    "ax.grid(ls=':', c='gray', alpha=.6)\n",
    "ax.set_yscale('log')"
   ]
  },
  {
   "cell_type": "markdown",
   "metadata": {},
   "source": [
    "**Deviation**"
   ]
  },
  {
   "cell_type": "code",
   "execution_count": 24,
   "metadata": {},
   "outputs": [
    {
     "data": {
      "text/plain": [
       "array([0.026185 , 0.019279 , 0.014594 , 0.011319 , 0.0089695, 0.0072411,\n",
       "       0.0059423])"
      ]
     },
     "execution_count": 24,
     "metadata": {},
     "output_type": "execute_result"
    }
   ],
   "source": [
    "eta_DLS = {263: 0.026185, 268: 0.019279, 273: 0.014594, 278: 0.011319, 283: 0.0089695, 288: 0.0072411, 293: 0.0059423}\n",
    "np.array(list(eta_DLS.values()))"
   ]
  },
  {
   "cell_type": "code",
   "execution_count": 31,
   "metadata": {},
   "outputs": [
    {
     "data": {
      "image/png": "[encoded data removed]",
      "text/plain": [
       "<Figure size 360x288 with 1 Axes>"
      ]
     },
     "metadata": {
      "needs_background": "light"
     },
     "output_type": "display_data"
    }
   ],
   "source": [
    "fig, ax = plt.subplots(1,1, figsize=(5,4), constrained_layout=True)\n",
    "\n",
    "# references\n",
    "# ax.plot(scale/DLS['T'], DLS['D']*1e-12 / SE2.loc[SE2['temperature'] == T_norm]['D_50w'].values[0], marker='s', c='k', ls='', ms=8, label='DLS', alpha=.5)\n",
    "\n",
    "# ax.plot(DLS['T'], DLS['D']*1e-12 / SE2.loc[SE2['temperature'] == T_norm]['D_50w'].values[0], marker='s', c='k', ls='', ms=8, label='DLS', alpha=.5)\n",
    "ax.plot(DLS['T'], DLS['D']*1e-12 * np.array(list(eta_DLS.values())) / DLS['T'] / norm , marker='s', c='k', ls='', ms=8, label='DLS', alpha=.5)\n",
    "\n",
    "# ax.plot(SE['temperature'], SE['D_c1'] * etas['c1'] / SE['temperature'] / norm, label='SE c1', c='gray', ls='-')\n",
    "# ax.plot(SE['temperature'], SE['D_c2'] * etas['c2'] / SE['temperature'] / norm, label='SE c2', c='C1', ls='-')\n",
    "# ax.plot(SE['temperature'], SE['D_c3'] * etas['c3'] / SE['temperature'] / norm, label='SE c3', c='C2', ls='-')\n",
    "ax.axhline(y=1, ls='--', c='gray')\n",
    "\n",
    "colors = ['C0', 'C1', 'C2']\n",
    "for i, (db,c) in enumerate(zip([D_c1, D_c2, D_c3], [\"c1\", \"c2\", \"c3\"])):\n",
    "    for t in db['temperature']:\n",
    "        ax.plot(t,  db[db['temperature']==t]['D'].values[0]*1e-12 * etas[etas['temp']==t][c].values[0] / t / norm, c=colors[i], marker='o', ms=8, alpha=.7)\n",
    "\n",
    "ax.set_ylabel(r'D $\\eta_{solv}$(T) / T', fontsize=12)\n",
    "ax.set_xlabel('T (K)', fontsize=12)\n",
    "ax.set_ylim(0,3)\n",
    "ax.legend()\n",
    "ax.grid(ls=':', c='gray', alpha=.6)\n",
    "# ax.set_yscale('log')"
   ]
  },
  {
   "cell_type": "markdown",
   "metadata": {},
   "source": [
    "# DLS data "
   ]
  },
  {
   "cell_type": "code",
   "execution_count": 124,
   "metadata": {},
   "outputs": [
    {
     "data": {
      "text/plain": [
       "[2.368793187496658e-12,\n",
       " 1.805921000681089e-12,\n",
       " 1.3655020118097436e-12,\n",
       " 9.079217600975276e-13,\n",
       " 6.663641920761801e-13,\n",
       " 3.997334849137091e-13,\n",
       " 2.50292570646917e-13,\n",
       " 1.4853655401440421e-13]"
      ]
     },
     "execution_count": 124,
     "metadata": {},
     "output_type": "execute_result"
    }
   ],
   "source": [
    "Rh = 5.785e-9\n",
    "Dref"
   ]
  },
  {
   "cell_type": "code",
   "execution_count": 126,
   "metadata": {},
   "outputs": [
    {
     "data": {
      "text/plain": [
       "Text(0, 0.5, 'D ($nm^2/\\\\mu s$)')"
      ]
     },
     "execution_count": 126,
     "metadata": {},
     "output_type": "execute_result"
    },
    {
     "data": {
      "image/png": "[encoded data removed]",
      "text/plain": [
       "<Figure size 360x288 with 1 Axes>"
      ]
     },
     "metadata": {
      "needs_background": "light"
     },
     "output_type": "display_data"
    }
   ],
   "source": [
    "fig, ax = plt.subplots(figsize=(5,4))\n",
    "ax.plot(DLS['T'], DLS['D']*1e-12, ls='', marker='s', c='k', alpha=.5)\n",
    "ax.plot(Tsref, Dref, ls='', marker='x', c='b', label=f'Rh={Rh:.2e}')\n",
    "\n",
    "ax.legend()\n",
    "ax.set_yscale('log')\n",
    "ax.set_xlabel('Temperature (K)', fontsize=12)\n",
    "ax.set_ylabel('D ($nm^2/\\mu s$)', fontsize=12)"
   ]
  },
  {
   "cell_type": "code",
   "execution_count": 129,
   "metadata": {},
   "outputs": [
    {
     "data": {
      "text/plain": [
       "Text(0, 0.5, 'D ($nm^2/\\\\mu s$)')"
      ]
     },
     "execution_count": 129,
     "metadata": {},
     "output_type": "execute_result"
    },
    {
     "data": {
      "image/png": "[encoded data removed]",
      "text/plain": [
       "<Figure size 360x288 with 1 Axes>"
      ]
     },
     "metadata": {
      "needs_background": "light"
     },
     "output_type": "display_data"
    }
   ],
   "source": [
    "x = DLS['T']\n",
    "y = DLS['D']\n",
    "# f = interpolate.interp1d(x, y)\n",
    "f = interpolate.interp1d(x, y, fill_value='extrapolate')\n",
    "\n",
    "xnew = np.linspace(np.min(DLS['T']), np.max(DLS['T']), 100)\n",
    "xnew = np.linspace(210, 300, 100)\n",
    "ynew = f(xnew)\n",
    "\n",
    "fig, ax = plt.subplots(figsize=(5,4))\n",
    "ax.plot(DLS['T'], DLS['D'], ls='', marker='s', c='k', alpha=.5)\n",
    "ax.plot(xnew, ynew, ls='-', c='r', alpha=.8)\n",
    "ax.set_xlabel('Temperature (K)', fontsize=12)\n",
    "ax.set_ylabel('D ($nm^2/\\mu s$)', fontsize=12)\n"
   ]
  },
  {
   "cell_type": "markdown",
   "metadata": {},
   "source": [
    "# D vs concentration (from ID10)"
   ]
  },
  {
   "cell_type": "markdown",
   "metadata": {},
   "source": [
    "**Selected temperature**"
   ]
  },
  {
   "cell_type": "code",
   "execution_count": null,
   "metadata": {},
   "outputs": [
    {
     "data": {
      "text/html": [
       "<div>\n",
       "<style scoped>\n",
       "    .dataframe tbody tr th:only-of-type {\n",
       "        vertical-align: middle;\n",
       "    }\n",
       "\n",
       "    .dataframe tbody tr th {\n",
       "        vertical-align: top;\n",
       "    }\n",
       "\n",
       "    .dataframe thead th {\n",
       "        text-align: right;\n",
       "    }\n",
       "</style>\n",
       "<table border=\"1\" class=\"dataframe\">\n",
       "  <thead>\n",
       "    <tr style=\"text-align: right;\">\n",
       "      <th></th>\n",
       "      <th>temperature</th>\n",
       "      <th>transmission</th>\n",
       "      <th>D</th>\n",
       "      <th>dD</th>\n",
       "      <th>c</th>\n",
       "    </tr>\n",
       "  </thead>\n",
       "  <tbody>\n",
       "    <tr>\n",
       "      <th>10</th>\n",
       "      <td>240</td>\n",
       "      <td>100.00</td>\n",
       "      <td>0.058330</td>\n",
       "      <td>0.002202</td>\n",
       "      <td>c1</td>\n",
       "    </tr>\n",
       "    <tr>\n",
       "      <th>0</th>\n",
       "      <td>240</td>\n",
       "      <td>45.00</td>\n",
       "      <td>0.044803</td>\n",
       "      <td>0.000973</td>\n",
       "      <td>c1</td>\n",
       "    </tr>\n",
       "    <tr>\n",
       "      <th>1</th>\n",
       "      <td>240</td>\n",
       "      <td>100.00</td>\n",
       "      <td>0.058330</td>\n",
       "      <td>0.002202</td>\n",
       "      <td>c1</td>\n",
       "    </tr>\n",
       "    <tr>\n",
       "      <th>19</th>\n",
       "      <td>240</td>\n",
       "      <td>100.00</td>\n",
       "      <td>0.015848</td>\n",
       "      <td>0.000249</td>\n",
       "      <td>c2</td>\n",
       "    </tr>\n",
       "    <tr>\n",
       "      <th>16</th>\n",
       "      <td>240</td>\n",
       "      <td>100.00</td>\n",
       "      <td>0.005881</td>\n",
       "      <td>0.000173</td>\n",
       "      <td>c3</td>\n",
       "    </tr>\n",
       "    <tr>\n",
       "      <th>5</th>\n",
       "      <td>240</td>\n",
       "      <td>100.00</td>\n",
       "      <td>0.004758</td>\n",
       "      <td>0.000055</td>\n",
       "      <td>c3</td>\n",
       "    </tr>\n",
       "    <tr>\n",
       "      <th>6</th>\n",
       "      <td>240</td>\n",
       "      <td>45.00</td>\n",
       "      <td>0.003454</td>\n",
       "      <td>0.000134</td>\n",
       "      <td>c3</td>\n",
       "    </tr>\n",
       "    <tr>\n",
       "      <th>7</th>\n",
       "      <td>240</td>\n",
       "      <td>22.50</td>\n",
       "      <td>0.003750</td>\n",
       "      <td>0.000246</td>\n",
       "      <td>c3</td>\n",
       "    </tr>\n",
       "    <tr>\n",
       "      <th>8</th>\n",
       "      <td>240</td>\n",
       "      <td>11.25</td>\n",
       "      <td>0.002887</td>\n",
       "      <td>0.000091</td>\n",
       "      <td>c3</td>\n",
       "    </tr>\n",
       "  </tbody>\n",
       "</table>\n",
       "</div>"
      ],
      "text/plain": [
       "    temperature  transmission         D        dD   c\n",
       "10          240        100.00  0.058330  0.002202  c1\n",
       "0           240         45.00  0.044803  0.000973  c1\n",
       "1           240        100.00  0.058330  0.002202  c1\n",
       "19          240        100.00  0.015848  0.000249  c2\n",
       "16          240        100.00  0.005881  0.000173  c3\n",
       "5           240        100.00  0.004758  0.000055  c3\n",
       "6           240         45.00  0.003454  0.000134  c3\n",
       "7           240         22.50  0.003750  0.000246  c3\n",
       "8           240         11.25  0.002887  0.000091  c3"
      ]
     },
     "execution_count": 18,
     "metadata": {},
     "output_type": "execute_result"
    }
   ],
   "source": [
    "T_sel = 240\n",
    "\n",
    "df2[df2['temperature']==T_sel].sort_values(by='c')"
   ]
  },
  {
   "cell_type": "code",
   "execution_count": null,
   "metadata": {},
   "outputs": [
    {
     "data": {
      "image/png": "[encoded data removed]",
      "text/plain": [
       "<Figure size 360x252 with 1 Axes>"
      ]
     },
     "metadata": {
      "needs_background": "light"
     },
     "output_type": "display_data"
    }
   ],
   "source": [
    "fig, ax = plt.subplots(1,1, figsize=(5,3.5), constrained_layout=True)\n",
    "# ax.plot(SE['temperature'], SE['D_50'], label='SE 50v%', c='C3', marker='o', ms=4)\n",
    "# ax.plot(SE['temperature'], SE['D_60'], label='SE 60v%', c='C3', marker='o', ms=4, ls='--')\n",
    "data = df2[df2['temperature']==T_sel].sort_values(by='c')\n",
    "\n",
    "sns.scatterplot(data=data, x='c', y='D', hue='transmission', s=100,alpha=.8, ax=ax, palette=\"copper\")\n",
    "# D_concentrations = df2.sort_values(by='c')\n",
    "\n",
    "# sns.lineplot(data=SE, x='temperature', y='D_50', palette='spring', markers=True, ax=ax)\n",
    "# sns.lineplot(data=SE, x='temperature', y='D_60', markers=True, ax=ax)\n",
    "# plt.legend(labels=['a', 'b', 'c'])\n",
    "# sns.lineplot(data=pd.melt(SE, ['temperature']), x='temperature', y='value', palette='pink')\n",
    "ax.set_ylabel('Diffusion coefficient ($nm^2/\\mu s$)', fontsize=12)\n",
    "ax.set_xlabel('Concentration', fontsize=12)\n",
    "ax.set_yscale('log')\n",
    "ax.set_title(f'T={T_sel} K')\n",
    "# ax.legend(bbox_to_anchor=[1,1])\n",
    "ax.grid(ls=':', c='gray', alpha=.6)"
   ]
  },
  {
   "cell_type": "markdown",
   "metadata": {},
   "source": [
    "**Selected transmission**"
   ]
  },
  {
   "cell_type": "code",
   "execution_count": null,
   "metadata": {},
   "outputs": [
    {
     "data": {
      "text/html": [
       "<div>\n",
       "<style scoped>\n",
       "    .dataframe tbody tr th:only-of-type {\n",
       "        vertical-align: middle;\n",
       "    }\n",
       "\n",
       "    .dataframe tbody tr th {\n",
       "        vertical-align: top;\n",
       "    }\n",
       "\n",
       "    .dataframe thead th {\n",
       "        text-align: right;\n",
       "    }\n",
       "</style>\n",
       "<table border=\"1\" class=\"dataframe\">\n",
       "  <thead>\n",
       "    <tr style=\"text-align: right;\">\n",
       "      <th></th>\n",
       "      <th>temperature</th>\n",
       "      <th>transmission</th>\n",
       "      <th>D</th>\n",
       "      <th>dD</th>\n",
       "      <th>c</th>\n",
       "    </tr>\n",
       "  </thead>\n",
       "  <tbody>\n",
       "    <tr>\n",
       "      <th>10</th>\n",
       "      <td>240</td>\n",
       "      <td>100.0</td>\n",
       "      <td>0.058330</td>\n",
       "      <td>0.002202</td>\n",
       "      <td>c1</td>\n",
       "    </tr>\n",
       "    <tr>\n",
       "      <th>11</th>\n",
       "      <td>230</td>\n",
       "      <td>100.0</td>\n",
       "      <td>0.018305</td>\n",
       "      <td>0.000290</td>\n",
       "      <td>c1</td>\n",
       "    </tr>\n",
       "    <tr>\n",
       "      <th>2</th>\n",
       "      <td>220</td>\n",
       "      <td>100.0</td>\n",
       "      <td>0.005152</td>\n",
       "      <td>0.000091</td>\n",
       "      <td>c1</td>\n",
       "    </tr>\n",
       "    <tr>\n",
       "      <th>9</th>\n",
       "      <td>250</td>\n",
       "      <td>100.0</td>\n",
       "      <td>0.140541</td>\n",
       "      <td>0.003009</td>\n",
       "      <td>c1</td>\n",
       "    </tr>\n",
       "    <tr>\n",
       "      <th>1</th>\n",
       "      <td>240</td>\n",
       "      <td>100.0</td>\n",
       "      <td>0.058330</td>\n",
       "      <td>0.002202</td>\n",
       "      <td>c1</td>\n",
       "    </tr>\n",
       "    <tr>\n",
       "      <th>13</th>\n",
       "      <td>210</td>\n",
       "      <td>100.0</td>\n",
       "      <td>0.002091</td>\n",
       "      <td>0.000042</td>\n",
       "      <td>c1</td>\n",
       "    </tr>\n",
       "    <tr>\n",
       "      <th>12</th>\n",
       "      <td>220</td>\n",
       "      <td>100.0</td>\n",
       "      <td>0.006419</td>\n",
       "      <td>0.000093</td>\n",
       "      <td>c1</td>\n",
       "    </tr>\n",
       "    <tr>\n",
       "      <th>20</th>\n",
       "      <td>260</td>\n",
       "      <td>100.0</td>\n",
       "      <td>0.121895</td>\n",
       "      <td>0.002851</td>\n",
       "      <td>c2</td>\n",
       "    </tr>\n",
       "    <tr>\n",
       "      <th>18</th>\n",
       "      <td>250</td>\n",
       "      <td>100.0</td>\n",
       "      <td>0.047516</td>\n",
       "      <td>0.003283</td>\n",
       "      <td>c2</td>\n",
       "    </tr>\n",
       "    <tr>\n",
       "      <th>19</th>\n",
       "      <td>240</td>\n",
       "      <td>100.0</td>\n",
       "      <td>0.015848</td>\n",
       "      <td>0.000249</td>\n",
       "      <td>c2</td>\n",
       "    </tr>\n",
       "    <tr>\n",
       "      <th>15</th>\n",
       "      <td>250</td>\n",
       "      <td>100.0</td>\n",
       "      <td>0.013706</td>\n",
       "      <td>0.000473</td>\n",
       "      <td>c3</td>\n",
       "    </tr>\n",
       "    <tr>\n",
       "      <th>16</th>\n",
       "      <td>240</td>\n",
       "      <td>100.0</td>\n",
       "      <td>0.005881</td>\n",
       "      <td>0.000173</td>\n",
       "      <td>c3</td>\n",
       "    </tr>\n",
       "    <tr>\n",
       "      <th>5</th>\n",
       "      <td>240</td>\n",
       "      <td>100.0</td>\n",
       "      <td>0.004758</td>\n",
       "      <td>0.000055</td>\n",
       "      <td>c3</td>\n",
       "    </tr>\n",
       "    <tr>\n",
       "      <th>17</th>\n",
       "      <td>230</td>\n",
       "      <td>100.0</td>\n",
       "      <td>0.002195</td>\n",
       "      <td>0.000087</td>\n",
       "      <td>c3</td>\n",
       "    </tr>\n",
       "    <tr>\n",
       "      <th>14</th>\n",
       "      <td>260</td>\n",
       "      <td>100.0</td>\n",
       "      <td>0.036022</td>\n",
       "      <td>0.002633</td>\n",
       "      <td>c3</td>\n",
       "    </tr>\n",
       "  </tbody>\n",
       "</table>\n",
       "</div>"
      ],
      "text/plain": [
       "    temperature  transmission         D        dD   c\n",
       "10          240         100.0  0.058330  0.002202  c1\n",
       "11          230         100.0  0.018305  0.000290  c1\n",
       "2           220         100.0  0.005152  0.000091  c1\n",
       "9           250         100.0  0.140541  0.003009  c1\n",
       "1           240         100.0  0.058330  0.002202  c1\n",
       "13          210         100.0  0.002091  0.000042  c1\n",
       "12          220         100.0  0.006419  0.000093  c1\n",
       "20          260         100.0  0.121895  0.002851  c2\n",
       "18          250         100.0  0.047516  0.003283  c2\n",
       "19          240         100.0  0.015848  0.000249  c2\n",
       "15          250         100.0  0.013706  0.000473  c3\n",
       "16          240         100.0  0.005881  0.000173  c3\n",
       "5           240         100.0  0.004758  0.000055  c3\n",
       "17          230         100.0  0.002195  0.000087  c3\n",
       "14          260         100.0  0.036022  0.002633  c3"
      ]
     },
     "execution_count": 20,
     "metadata": {},
     "output_type": "execute_result"
    }
   ],
   "source": [
    "Tr_sel = 100\n",
    "df2[df2['transmission']==Tr_sel].sort_values(by='c')"
   ]
  },
  {
   "cell_type": "code",
   "execution_count": null,
   "metadata": {},
   "outputs": [
    {
     "data": {
      "image/png": "[encoded data removed]",
      "text/plain": [
       "<Figure size 360x252 with 1 Axes>"
      ]
     },
     "metadata": {
      "needs_background": "light"
     },
     "output_type": "display_data"
    }
   ],
   "source": [
    "fig, ax = plt.subplots(1,1, figsize=(5,3.5), constrained_layout=True)\n",
    "# ax.plot(SE['temperature'], SE['D_50'], label='SE 50v%', c='C3', marker='o', ms=4)\n",
    "# ax.plot(SE['temperature'], SE['D_60'], label='SE 60v%', c='C3', marker='o', ms=4, ls='--')\n",
    "data = df2[df2['transmission']==Tr_sel].sort_values(by='c')\n",
    "\n",
    "sns.scatterplot(data=data, x='c', y='D', hue='temperature', s=100,alpha=.8, ax=ax, palette=\"coolwarm\")\n",
    "\n",
    "ax.set_ylabel('Diffusion coefficient ($nm^2/\\mu s$)', fontsize=12)\n",
    "ax.set_xlabel('Concentration', fontsize=12)\n",
    "ax.set_yscale('log')\n",
    "ax.set_title(f'Tr {Tr_sel}%')\n",
    "ax.legend(bbox_to_anchor=[1,1], title='T (K)')\n",
    "ax.grid(ls=':', c='gray', alpha=.6)"
   ]
  },
  {
   "cell_type": "markdown",
   "metadata": {},
   "source": [
    "**D vs Transmission**"
   ]
  },
  {
   "cell_type": "code",
   "execution_count": null,
   "metadata": {},
   "outputs": [
    {
     "data": {
      "text/html": [
       "<div>\n",
       "<style scoped>\n",
       "    .dataframe tbody tr th:only-of-type {\n",
       "        vertical-align: middle;\n",
       "    }\n",
       "\n",
       "    .dataframe tbody tr th {\n",
       "        vertical-align: top;\n",
       "    }\n",
       "\n",
       "    .dataframe thead th {\n",
       "        text-align: right;\n",
       "    }\n",
       "</style>\n",
       "<table border=\"1\" class=\"dataframe\">\n",
       "  <thead>\n",
       "    <tr style=\"text-align: right;\">\n",
       "      <th></th>\n",
       "      <th>temperature</th>\n",
       "      <th>transmission</th>\n",
       "      <th>D</th>\n",
       "      <th>dD</th>\n",
       "      <th>c</th>\n",
       "    </tr>\n",
       "  </thead>\n",
       "  <tbody>\n",
       "    <tr>\n",
       "      <th>10</th>\n",
       "      <td>240</td>\n",
       "      <td>100.00</td>\n",
       "      <td>0.058330</td>\n",
       "      <td>0.002202</td>\n",
       "      <td>c1</td>\n",
       "    </tr>\n",
       "    <tr>\n",
       "      <th>0</th>\n",
       "      <td>240</td>\n",
       "      <td>45.00</td>\n",
       "      <td>0.044803</td>\n",
       "      <td>0.000973</td>\n",
       "      <td>c1</td>\n",
       "    </tr>\n",
       "    <tr>\n",
       "      <th>1</th>\n",
       "      <td>240</td>\n",
       "      <td>100.00</td>\n",
       "      <td>0.058330</td>\n",
       "      <td>0.002202</td>\n",
       "      <td>c1</td>\n",
       "    </tr>\n",
       "    <tr>\n",
       "      <th>19</th>\n",
       "      <td>240</td>\n",
       "      <td>100.00</td>\n",
       "      <td>0.015848</td>\n",
       "      <td>0.000249</td>\n",
       "      <td>c2</td>\n",
       "    </tr>\n",
       "    <tr>\n",
       "      <th>16</th>\n",
       "      <td>240</td>\n",
       "      <td>100.00</td>\n",
       "      <td>0.005881</td>\n",
       "      <td>0.000173</td>\n",
       "      <td>c3</td>\n",
       "    </tr>\n",
       "    <tr>\n",
       "      <th>5</th>\n",
       "      <td>240</td>\n",
       "      <td>100.00</td>\n",
       "      <td>0.004758</td>\n",
       "      <td>0.000055</td>\n",
       "      <td>c3</td>\n",
       "    </tr>\n",
       "    <tr>\n",
       "      <th>6</th>\n",
       "      <td>240</td>\n",
       "      <td>45.00</td>\n",
       "      <td>0.003454</td>\n",
       "      <td>0.000134</td>\n",
       "      <td>c3</td>\n",
       "    </tr>\n",
       "    <tr>\n",
       "      <th>7</th>\n",
       "      <td>240</td>\n",
       "      <td>22.50</td>\n",
       "      <td>0.003750</td>\n",
       "      <td>0.000246</td>\n",
       "      <td>c3</td>\n",
       "    </tr>\n",
       "    <tr>\n",
       "      <th>8</th>\n",
       "      <td>240</td>\n",
       "      <td>11.25</td>\n",
       "      <td>0.002887</td>\n",
       "      <td>0.000091</td>\n",
       "      <td>c3</td>\n",
       "    </tr>\n",
       "  </tbody>\n",
       "</table>\n",
       "</div>"
      ],
      "text/plain": [
       "    temperature  transmission         D        dD   c\n",
       "10          240        100.00  0.058330  0.002202  c1\n",
       "0           240         45.00  0.044803  0.000973  c1\n",
       "1           240        100.00  0.058330  0.002202  c1\n",
       "19          240        100.00  0.015848  0.000249  c2\n",
       "16          240        100.00  0.005881  0.000173  c3\n",
       "5           240        100.00  0.004758  0.000055  c3\n",
       "6           240         45.00  0.003454  0.000134  c3\n",
       "7           240         22.50  0.003750  0.000246  c3\n",
       "8           240         11.25  0.002887  0.000091  c3"
      ]
     },
     "execution_count": 22,
     "metadata": {},
     "output_type": "execute_result"
    }
   ],
   "source": [
    "T_sel = 240\n",
    "df2[df2['temperature']==T_sel].sort_values(by='c')"
   ]
  },
  {
   "cell_type": "code",
   "execution_count": null,
   "metadata": {},
   "outputs": [
    {
     "data": {
      "text/html": [
       "<div>\n",
       "<style scoped>\n",
       "    .dataframe tbody tr th:only-of-type {\n",
       "        vertical-align: middle;\n",
       "    }\n",
       "\n",
       "    .dataframe tbody tr th {\n",
       "        vertical-align: top;\n",
       "    }\n",
       "\n",
       "    .dataframe thead th {\n",
       "        text-align: right;\n",
       "    }\n",
       "</style>\n",
       "<table border=\"1\" class=\"dataframe\">\n",
       "  <thead>\n",
       "    <tr style=\"text-align: right;\">\n",
       "      <th></th>\n",
       "      <th>temperature</th>\n",
       "      <th>D_50</th>\n",
       "      <th>D_60</th>\n",
       "      <th>D_50w</th>\n",
       "    </tr>\n",
       "  </thead>\n",
       "  <tbody>\n",
       "    <tr>\n",
       "      <th>0</th>\n",
       "      <td>300.0</td>\n",
       "      <td>5.237051</td>\n",
       "      <td>2.847789</td>\n",
       "      <td>3.561412</td>\n",
       "    </tr>\n",
       "    <tr>\n",
       "      <th>1</th>\n",
       "      <td>290.0</td>\n",
       "      <td>3.388901</td>\n",
       "      <td>1.729749</td>\n",
       "      <td>2.376410</td>\n",
       "    </tr>\n",
       "    <tr>\n",
       "      <th>2</th>\n",
       "      <td>280.0</td>\n",
       "      <td>2.044741</td>\n",
       "      <td>0.968367</td>\n",
       "      <td>1.487076</td>\n",
       "    </tr>\n",
       "    <tr>\n",
       "      <th>3</th>\n",
       "      <td>270.0</td>\n",
       "      <td>1.127404</td>\n",
       "      <td>0.488342</td>\n",
       "      <td>0.856608</td>\n",
       "    </tr>\n",
       "    <tr>\n",
       "      <th>4</th>\n",
       "      <td>260.0</td>\n",
       "      <td>0.553158</td>\n",
       "      <td>0.215331</td>\n",
       "      <td>0.443027</td>\n",
       "    </tr>\n",
       "    <tr>\n",
       "      <th>5</th>\n",
       "      <td>250.0</td>\n",
       "      <td>0.232484</td>\n",
       "      <td>0.079595</td>\n",
       "      <td>0.198488</td>\n",
       "    </tr>\n",
       "    <tr>\n",
       "      <th>6</th>\n",
       "      <td>240.0</td>\n",
       "      <td>0.078990</td>\n",
       "      <td>0.023163</td>\n",
       "      <td>0.072896</td>\n",
       "    </tr>\n",
       "    <tr>\n",
       "      <th>7</th>\n",
       "      <td>230.0</td>\n",
       "      <td>0.019798</td>\n",
       "      <td>0.004816</td>\n",
       "      <td>0.020092</td>\n",
       "    </tr>\n",
       "    <tr>\n",
       "      <th>8</th>\n",
       "      <td>220.0</td>\n",
       "      <td>0.003136</td>\n",
       "      <td>0.000610</td>\n",
       "      <td>0.003573</td>\n",
       "    </tr>\n",
       "    <tr>\n",
       "      <th>9</th>\n",
       "      <td>210.0</td>\n",
       "      <td>0.000236</td>\n",
       "      <td>0.000035</td>\n",
       "      <td>0.000308</td>\n",
       "    </tr>\n",
       "  </tbody>\n",
       "</table>\n",
       "</div>"
      ],
      "text/plain": [
       "   temperature      D_50      D_60     D_50w\n",
       "0        300.0  5.237051  2.847789  3.561412\n",
       "1        290.0  3.388901  1.729749  2.376410\n",
       "2        280.0  2.044741  0.968367  1.487076\n",
       "3        270.0  1.127404  0.488342  0.856608\n",
       "4        260.0  0.553158  0.215331  0.443027\n",
       "5        250.0  0.232484  0.079595  0.198488\n",
       "6        240.0  0.078990  0.023163  0.072896\n",
       "7        230.0  0.019798  0.004816  0.020092\n",
       "8        220.0  0.003136  0.000610  0.003573\n",
       "9        210.0  0.000236  0.000035  0.000308"
      ]
     },
     "execution_count": 23,
     "metadata": {},
     "output_type": "execute_result"
    }
   ],
   "source": [
    "SE"
   ]
  },
  {
   "cell_type": "code",
   "execution_count": null,
   "metadata": {},
   "outputs": [
    {
     "data": {
      "text/plain": [
       "6    0.07899\n",
       "Name: D_50, dtype: float64"
      ]
     },
     "execution_count": 24,
     "metadata": {},
     "output_type": "execute_result"
    }
   ],
   "source": [
    "SE[SE['temperature']==240]['D_50']"
   ]
  },
  {
   "cell_type": "code",
   "execution_count": null,
   "metadata": {},
   "outputs": [
    {
     "data": {
      "image/png": "[encoded data removed]",
      "text/plain": [
       "<Figure size 360x252 with 1 Axes>"
      ]
     },
     "metadata": {
      "needs_background": "light"
     },
     "output_type": "display_data"
    }
   ],
   "source": [
    "fig, ax = plt.subplots(1,1, figsize=(5,3.5), constrained_layout=True)\n",
    "# ax.plot(SE['temperature'], SE['D_50'], label='SE 50v%', c='C3', marker='o', ms=4)\n",
    "# ax.plot(SE['temperature'], SE['D_60'], label='SE 60v%', c='C3', marker='o', ms=4, ls='--')\n",
    "data = df2[df2['temperature']==T_sel].sort_values(by='c')\n",
    "\n",
    "\n",
    "\n",
    "ax.axhline(y=SE[SE['temperature']==T_sel]['D_50'].values[0], label='50v%', ls='--', c='gray')\n",
    "ax.axhline(y=SE[SE['temperature']==T_sel]['D_60'].values[0], label='60v%', ls=':', c='gray')\n",
    "# ax.plot(SE['temperature'], SE['D_50'], label='SE 50v%', c='C3', marker='o', ms=4)\n",
    "\n",
    "sns.scatterplot(data=data, x='transmission', y='D', hue='c', s=100,alpha=.8, ax=ax, palette=\"muted\")\n",
    "# D_concentrations = df2.sort_values(by='c')\n",
    "ax.set_ylabel('Diffusion coefficient ($nm^2/\\mu s$)', fontsize=12)\n",
    "ax.set_xlabel('transmission (%)', fontsize=12)\n",
    "ax.set_yscale('log')\n",
    "ax.set_title(f'T={T_sel} K')\n",
    "ax.legend(bbox_to_anchor=[1,1])\n",
    "ax.grid(ls=':', c='gray', alpha=.6)"
   ]
  },
  {
   "cell_type": "code",
   "execution_count": null,
   "metadata": {},
   "outputs": [
    {
     "data": {
      "text/plain": [
       "Text(0, 0.5, 'D ($nm^2/\\\\mu s$)')"
      ]
     },
     "execution_count": 28,
     "metadata": {},
     "output_type": "execute_result"
    },
    {
     "data": {
      "image/png": "[encoded data removed]",
      "text/plain": [
       "<Figure size 360x288 with 1 Axes>"
      ]
     },
     "metadata": {
      "needs_background": "light"
     },
     "output_type": "display_data"
    }
   ],
   "source": []
  },
  {
   "cell_type": "code",
   "execution_count": null,
   "metadata": {},
   "outputs": [],
   "source": []
  },
  {
   "cell_type": "code",
   "execution_count": null,
   "metadata": {},
   "outputs": [],
   "source": []
  }
 ],
 "metadata": {
  "kernelspec": {
   "display_name": ".venv",
   "language": "python",
   "name": "python3"
  },
  "language_info": {
   "codemirror_mode": {
    "name": "ipython",
    "version": 3
   },
   "file_extension": ".py",
   "mimetype": "text/x-python",
   "name": "python",
   "nbconvert_exporter": "python",
   "pygments_lexer": "ipython3",
   "version": "3.8.5"
  },
  "orig_nbformat": 4
 },
 "nbformat": 4,
 "nbformat_minor": 2
}
