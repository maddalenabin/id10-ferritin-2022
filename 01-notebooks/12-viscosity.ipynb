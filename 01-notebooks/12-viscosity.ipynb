{
 "cells": [
  {
   "cell_type": "code",
   "execution_count": 2,
   "metadata": {},
   "outputs": [
    {
     "data": {
      "text/html": [
       "<style>.container { width:90% !important; }</style>"
      ],
      "text/plain": [
       "<IPython.core.display.HTML object>"
      ]
     },
     "metadata": {},
     "output_type": "display_data"
    }
   ],
   "source": [
    "%matplotlib inline\n",
    "# %matplotlib widget\n",
    "%load_ext autoreload\n",
    "%autoreload 2\n",
    "from IPython.display import display, HTML\n",
    "display(HTML(\"<style>.container { width:90% !important; }</style>\"))\n",
    "\n",
    "import sys\n",
    "sys.path.insert(0, 'functions/')\n",
    "# from h5_tools import *\n",
    "from tools import *\n",
    "import numpy as np\n",
    "import matplotlib as mpl\n",
    "import matplotlib.pyplot as plt\n",
    "import pandas as pd\n",
    "import seaborn as sns\n",
    "from scipy import interpolate\n",
    "import warnings\n",
    "warnings.filterwarnings(\"ignore\")\n",
    "\n",
    "# plot general settings\n",
    "mpl.rcParams.update({\"axes.grid\" : True, \"grid.color\": \"gray\", \"grid.linestyle\":\":\", \"grid.alpha\": \"0.7\"})"
   ]
  },
  {
   "cell_type": "markdown",
   "metadata": {},
   "source": [
    "# Functions"
   ]
  },
  {
   "cell_type": "code",
   "execution_count": 3,
   "metadata": {},
   "outputs": [],
   "source": [
    "def get_diff_coeff_library(filename='../03-source/diffusion_coefficient'):\n",
    "    \"\"\"Return dataframe with diffusion coefficients from the experimental data\n",
    "    \"\"\"\n",
    "    df = pd.read_pickle(filename)\n",
    "    df['temperature'] = df['temperature'].replace(243, 240)\n",
    "    df['transmission'] = df['transmission'].str.replace('%', '')\n",
    "    df['transmission'] = df['transmission'].str.replace('nan', '100')\n",
    "    df['transmission'] = df['transmission'].str.replace('~', '')\n",
    "    df['transmission'] = df['transmission'].astype(float)\n",
    "    \n",
    "    return df\n",
    "\n",
    "def load_npz_data(filename):\n",
    "    \"\"\"Loads data from npz file and return a dictionary\n",
    "    \"\"\"\n",
    "    file = np.load(filename)\n",
    "    data = {key: file[key] for key in file.files}\n",
    "\n",
    "    return data"
   ]
  },
  {
   "cell_type": "markdown",
   "metadata": {},
   "source": [
    "# Load Viscosities"
   ]
  },
  {
   "cell_type": "code",
   "execution_count": 4,
   "metadata": {},
   "outputs": [
    {
     "data": {
      "text/plain": [
       "[<matplotlib.lines.Line2D at 0x7f67850f75b0>]"
      ]
     },
     "execution_count": 4,
     "metadata": {},
     "output_type": "execute_result"
    },
    {
     "data": {
      "image/png": "[encoded data removed]",
      "text/plain": [
       "<Figure size 432x288 with 1 Axes>"
      ]
     },
     "metadata": {
      "needs_background": "light"
     },
     "output_type": "display_data"
    }
   ],
   "source": [
    "# form dx.doi.org/10.1021/je101164q |J. Chem. Eng. Data 2011, 56, 1397–1406 in mPa*s\n",
    "eta_50w_ref = {273.15: 14.6, 268.15: 18.8, 263.15: 24.4, 258.15: 36.0, 253.15: 48.1, 248.15: 78.6, 243.15: 123, 238.15: 203}\n",
    "\n",
    "lists = eta_50w_ref.items()\n",
    "ts, etas_ref = zip(*lists)\n",
    "plt.plot(ts, np.array(etas_ref)*1e-3, label='50 w% = 23 mol% (paper)', marker='x', c='C1')\n",
    "\n",
    "# they overlap with the values in the pandas dataframe"
   ]
  },
  {
   "cell_type": "code",
   "execution_count": 5,
   "metadata": {},
   "outputs": [],
   "source": [
    "# Rh = 5.785e-9\n",
    "# Tsref, Dref = [], []\n",
    "\n",
    "# for T in eta_50w_ref.keys():\n",
    "#     Tsref.append(T)\n",
    "#     # print(T, eta_50w_ref[T])\n",
    "#     Dref.append(D_coeff(T=T, eta=eta_50w_ref[T]*1e-3, Rh=Rh))\n",
    "# Dref"
   ]
  },
  {
   "cell_type": "code",
   "execution_count": 6,
   "metadata": {},
   "outputs": [
    {
     "data": {
      "text/html": [
       "<div>\n",
       "<style scoped>\n",
       "    .dataframe tbody tr th:only-of-type {\n",
       "        vertical-align: middle;\n",
       "    }\n",
       "\n",
       "    .dataframe tbody tr th {\n",
       "        vertical-align: top;\n",
       "    }\n",
       "\n",
       "    .dataframe thead th {\n",
       "        text-align: right;\n",
       "    }\n",
       "</style>\n",
       "<table border=\"1\" class=\"dataframe\">\n",
       "  <thead>\n",
       "    <tr style=\"text-align: right;\">\n",
       "      <th></th>\n",
       "      <th>temp</th>\n",
       "      <th>50w%</th>\n",
       "      <th>50v%</th>\n",
       "      <th>60v%</th>\n",
       "      <th>c1</th>\n",
       "      <th>c2</th>\n",
       "      <th>c3</th>\n",
       "    </tr>\n",
       "  </thead>\n",
       "  <tbody>\n",
       "    <tr>\n",
       "      <th>0</th>\n",
       "      <td>300</td>\n",
       "      <td>0.004674</td>\n",
       "      <td>0.006357</td>\n",
       "      <td>0.011691</td>\n",
       "      <td>0.006726</td>\n",
       "      <td>0.008012</td>\n",
       "      <td>0.010947</td>\n",
       "    </tr>\n",
       "    <tr>\n",
       "      <th>1</th>\n",
       "      <td>290</td>\n",
       "      <td>0.006771</td>\n",
       "      <td>0.009497</td>\n",
       "      <td>0.018606</td>\n",
       "      <td>0.010106</td>\n",
       "      <td>0.012256</td>\n",
       "      <td>0.017301</td>\n",
       "    </tr>\n",
       "    <tr>\n",
       "      <th>2</th>\n",
       "      <td>280</td>\n",
       "      <td>0.010448</td>\n",
       "      <td>0.015197</td>\n",
       "      <td>0.032089</td>\n",
       "      <td>0.016282</td>\n",
       "      <td>0.020171</td>\n",
       "      <td>0.029595</td>\n",
       "    </tr>\n",
       "    <tr>\n",
       "      <th>3</th>\n",
       "      <td>270</td>\n",
       "      <td>0.017490</td>\n",
       "      <td>0.026578</td>\n",
       "      <td>0.061359</td>\n",
       "      <td>0.028708</td>\n",
       "      <td>0.036484</td>\n",
       "      <td>0.056042</td>\n",
       "    </tr>\n",
       "    <tr>\n",
       "      <th>4</th>\n",
       "      <td>260</td>\n",
       "      <td>0.032565</td>\n",
       "      <td>0.052163</td>\n",
       "      <td>0.134000</td>\n",
       "      <td>0.056900</td>\n",
       "      <td>0.074554</td>\n",
       "      <td>0.120980</td>\n",
       "    </tr>\n",
       "    <tr>\n",
       "      <th>5</th>\n",
       "      <td>250</td>\n",
       "      <td>0.069890</td>\n",
       "      <td>0.119340</td>\n",
       "      <td>0.348570</td>\n",
       "      <td>0.131720</td>\n",
       "      <td>0.179070</td>\n",
       "      <td>0.310370</td>\n",
       "    </tr>\n",
       "    <tr>\n",
       "      <th>6</th>\n",
       "      <td>240</td>\n",
       "      <td>0.182690</td>\n",
       "      <td>0.337190</td>\n",
       "      <td>1.149900</td>\n",
       "      <td>0.377570</td>\n",
       "      <td>0.536700</td>\n",
       "      <td>1.007000</td>\n",
       "    </tr>\n",
       "    <tr>\n",
       "      <th>7</th>\n",
       "      <td>230</td>\n",
       "      <td>0.635210</td>\n",
       "      <td>1.289300</td>\n",
       "      <td>5.300200</td>\n",
       "      <td>1.469200</td>\n",
       "      <td>2.204400</td>\n",
       "      <td>4.550300</td>\n",
       "    </tr>\n",
       "    <tr>\n",
       "      <th>8</th>\n",
       "      <td>220</td>\n",
       "      <td>3.416900</td>\n",
       "      <td>7.785200</td>\n",
       "      <td>40.015000</td>\n",
       "      <td>9.060500</td>\n",
       "      <td>14.508000</td>\n",
       "      <td>33.555000</td>\n",
       "    </tr>\n",
       "    <tr>\n",
       "      <th>9</th>\n",
       "      <td>210</td>\n",
       "      <td>37.846000</td>\n",
       "      <td>98.826000</td>\n",
       "      <td>657.370000</td>\n",
       "      <td>117.890000</td>\n",
       "      <td>203.600000</td>\n",
       "      <td>536.700000</td>\n",
       "    </tr>\n",
       "  </tbody>\n",
       "</table>\n",
       "</div>"
      ],
      "text/plain": [
       "   temp       50w%       50v%        60v%          c1          c2          c3\n",
       "0   300   0.004674   0.006357    0.011691    0.006726    0.008012    0.010947\n",
       "1   290   0.006771   0.009497    0.018606    0.010106    0.012256    0.017301\n",
       "2   280   0.010448   0.015197    0.032089    0.016282    0.020171    0.029595\n",
       "3   270   0.017490   0.026578    0.061359    0.028708    0.036484    0.056042\n",
       "4   260   0.032565   0.052163    0.134000    0.056900    0.074554    0.120980\n",
       "5   250   0.069890   0.119340    0.348570    0.131720    0.179070    0.310370\n",
       "6   240   0.182690   0.337190    1.149900    0.377570    0.536700    1.007000\n",
       "7   230   0.635210   1.289300    5.300200    1.469200    2.204400    4.550300\n",
       "8   220   3.416900   7.785200   40.015000    9.060500   14.508000   33.555000\n",
       "9   210  37.846000  98.826000  657.370000  117.890000  203.600000  536.700000"
      ]
     },
     "execution_count": 6,
     "metadata": {},
     "output_type": "execute_result"
    }
   ],
   "source": [
    "etas = viscosity()\n",
    "etas#['50w%']"
   ]
  },
  {
   "cell_type": "code",
   "execution_count": 7,
   "metadata": {},
   "outputs": [
    {
     "data": {
      "text/plain": [
       "['T_np', 'eta_np', 'T_gly', 'eta_gly']"
      ]
     },
     "execution_count": 7,
     "metadata": {},
     "output_type": "execute_result"
    }
   ],
   "source": [
    "f = np.load(\"../03-source/viscosity_NP.npz\") # 23 mol% = 50 w% = 44 v%\n",
    "f.files"
   ]
  },
  {
   "cell_type": "markdown",
   "metadata": {},
   "source": [
    "# Plots"
   ]
  },
  {
   "cell_type": "code",
   "execution_count": 21,
   "metadata": {},
   "outputs": [
    {
     "data": {
      "image/png": "[encoded data removed]",
      "text/plain": [
       "<Figure size 360x288 with 1 Axes>"
      ]
     },
     "metadata": {
      "needs_background": "light"
     },
     "output_type": "display_data"
    }
   ],
   "source": [
    "plt.figure(figsize=(5,4))\n",
    "\n",
    "\n",
    "plt.plot(f['T_gly'], f['eta_gly'], label='23 mol% (website)', c='C1', marker='o')\n",
    "fact = 1 #f['eta_gly'][1] / etas['50w%'].iloc[2]\n",
    "plt.plot(etas['temp'], etas['50w%']*fact, label='50 w% ≈16 mol% (website)', c='C0', ls='-', marker='s')\n",
    "\n",
    "# from LLT ID10\n",
    "plt.plot(f['T_np'], f['eta_np'], label='NP 23 mol% (XPCS)', c='C2', marker='s')\n",
    "\n",
    "plt.yscale('log')\n",
    "plt.legend()\n",
    "plt.xlim(190,310)\n",
    "plt.ylim(1e-3,1e5)\n",
    "# plt.ylabel(\"$\\eta$ (Pa$\\cdot$s)\")\n",
    "plt.ylabel(\"$\\eta$ (Ns/m$^2$)\")\n",
    "plt.xlabel(\"$T$ (K)\")\n",
    "# plt.savefig('../06-figs/eta_id10_llt.png', dpi=300)"
   ]
  },
  {
   "cell_type": "code",
   "execution_count": 22,
   "metadata": {},
   "outputs": [
    {
     "data": {
      "text/plain": [
       "array([1.0471e-02, 2.1720e-02, 3.9632e-02, 8.1849e-02, 1.9911e-01,\n",
       "       6.0600e-01, 2.5357e+00, 1.7063e+01, 2.4570e+02, 1.3837e+04,\n",
       "       2.6422e+05, 1.6325e+07, 1.0385e+10, 4.1674e+15])"
      ]
     },
     "execution_count": 22,
     "metadata": {},
     "output_type": "execute_result"
    }
   ],
   "source": [
    "f['eta_gly']"
   ]
  },
  {
   "cell_type": "code",
   "execution_count": 23,
   "metadata": {},
   "outputs": [
    {
     "data": {
      "text/plain": [
       "array([295, 280, 270, 260, 250, 240, 230, 220, 210, 200, 195, 190, 185,\n",
       "       180])"
      ]
     },
     "execution_count": 23,
     "metadata": {},
     "output_type": "execute_result"
    }
   ],
   "source": [
    "f['T_gly']"
   ]
  },
  {
   "cell_type": "code",
   "execution_count": null,
   "metadata": {},
   "outputs": [],
   "source": []
  }
 ],
 "metadata": {
  "kernelspec": {
   "display_name": ".venv",
   "language": "python",
   "name": "python3"
  },
  "language_info": {
   "codemirror_mode": {
    "name": "ipython",
    "version": 3
   },
   "file_extension": ".py",
   "mimetype": "text/x-python",
   "name": "python",
   "nbconvert_exporter": "python",
   "pygments_lexer": "ipython3",
   "version": "3.8.5"
  }
 },
 "nbformat": 4,
 "nbformat_minor": 2
}
