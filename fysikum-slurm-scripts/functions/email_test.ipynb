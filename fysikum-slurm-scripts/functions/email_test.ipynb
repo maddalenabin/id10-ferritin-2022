{
 "cells": [
  {
   "cell_type": "code",
   "execution_count": 1,
   "metadata": {},
   "outputs": [],
   "source": [
    "import smtplib, ssl"
   ]
  },
  {
   "cell_type": "code",
   "execution_count": 3,
   "metadata": {},
   "outputs": [],
   "source": [
    "port = 587  # For starttls\n",
    "smtp_server = \"smtp.office365.com\"\n",
    "sender_email = \"maddalenabin@hotmail.com\"\n",
    "receiver_email = \"maddalenabin@hotmail.com\"\n",
    "password = str(np.loadtxt(\"./confidential.txt\",dtype='str'))\n",
    "\n",
    "context = ssl.create_default_context()\n",
    "\n",
    "# -- this works\n",
    "message = f\"\"\"Subject: this is a test for myself\n",
    "From: Maddalena <{sender_email}>\n",
    "To: <{receiver_email}>\n",
    "\n",
    "Last attempt to make it work.\"\"\"\n",
    "\n",
    "with smtplib.SMTP(smtp_server, port) as server:\n",
    "    server.ehlo()  # Can be omitted\n",
    "    server.starttls(context=context)\n",
    "    server.ehlo()  # Can be omitted\n",
    "    server.login(sender_email, password)\n",
    "    server.sendmail(sender_email, receiver_email.split(','), message)"
   ]
  },
  {
   "cell_type": "code",
   "execution_count": 1,
   "metadata": {},
   "outputs": [
    {
     "name": "stdout",
     "output_type": "stream",
     "text": [
      "confidential.txt  helpers.py   masking.py   slurm.py\n",
      "email_test.ipynb  __init__.py  metadata.py\n"
     ]
    }
   ],
   "source": [
    "!ls"
   ]
  },
  {
   "cell_type": "code",
   "execution_count": 3,
   "metadata": {},
   "outputs": [],
   "source": [
    "import numpy as np"
   ]
  },
  {
   "cell_type": "code",
   "execution_count": 17,
   "metadata": {},
   "outputs": [],
   "source": [
    "email1, email2, pswd = np.loadtxt(\"./confidential.txt\",dtype='str')"
   ]
  },
  {
   "cell_type": "code",
   "execution_count": null,
   "metadata": {},
   "outputs": [],
   "source": []
  }
 ],
 "metadata": {
  "kernelspec": {
   "display_name": "apof-fysikum",
   "language": "python",
   "name": "apof-fysikum"
  },
  "language_info": {
   "codemirror_mode": {
    "name": "ipython",
    "version": 3
   },
   "file_extension": ".py",
   "mimetype": "text/x-python",
   "name": "python",
   "nbconvert_exporter": "python",
   "pygments_lexer": "ipython3",
   "version": "3.8.5"
  },
  "orig_nbformat": 4
 },
 "nbformat": 4,
 "nbformat_minor": 2
}
